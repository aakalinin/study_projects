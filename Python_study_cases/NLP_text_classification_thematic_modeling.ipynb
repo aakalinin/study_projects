{
  "cells": [
    {
      "cell_type": "markdown",
      "metadata": {
        "id": "AUfoFq-IJyV2"
      },
      "source": [
        "# Домашнее задание № 1 (NLP). Тематическое моделирование"
      ]
    },
    {
      "cell_type": "markdown",
      "metadata": {
        "id": "fahirfvcJ7N1"
      },
      "source": [
        "Классификация по тональности\n",
        "\n",
        "- В этом домашнем задании вам предстоит классифицировать по тональности отзывы на банки с сайта banki.ru.\n",
        "- Данные содержат непосредственно тексты отзывов, некоторую дополнительную информацию, а также оценку по шкале от 1 до 5.\n",
        "- Тексты хранятся в json-ах в массиве responses."
      ]
    },
    {
      "cell_type": "markdown",
      "metadata": {
        "id": "A4kJ6gDOKJxm"
      },
      "source": [
        "### Часть 1. Анализ текстов"
      ]
    },
    {
      "cell_type": "markdown",
      "metadata": {
        "id": "EMaeZFeIKafR"
      },
      "source": [
        "- Посчитайте количество отзывов в разных городах и на разные банки\n",
        "- Постройте гистограмы длин слов в символах и в словах\n",
        "- Найдите 10 самых частых:\n",
        "  - слов\n",
        "  - слов без стоп-слов\n",
        "  - лемм\n",
        "  - существительных\n",
        "- Постройте кривые Ципфа и Хипса\n",
        "- Ответьте на следующие вопросы:\n",
        "  - какое слово встречается чаще, \"сотрудник\" или \"клиент\"?\n",
        "  - сколько раз встречается слова \"мошенничество\" и \"доверие\"?\n",
        "- В поле \"rating_grade\" записана оценка отзыва по шкале от 1 до 5. Используйте меру tf-idf, для того, чтобы найти ключевые слова и биграмы для положительных отзывов (с оценкой 5) и отрицательных отзывов (с оценкой 1)\n",
        "\n"
      ]
    },
    {
      "cell_type": "code",
      "execution_count": 1,
      "metadata": {
        "id": "S0gFV4t1JMK-"
      },
      "outputs": [],
      "source": [
        "import pandas as pd\n",
        "import numpy as np\n",
        "import matplotlib.pyplot as plt\n",
        "import seaborn as sns\n",
        "%matplotlib inline\n",
        "\n",
        "import json\n",
        "import bz2\n",
        "import regex\n",
        "from collections import Counter\n",
        "\n",
        "import nltk\n",
        "from scipy import sparse\n",
        "from tqdm import tqdm"
      ]
    },
    {
      "cell_type": "code",
      "execution_count": 2,
      "metadata": {
        "colab": {
          "base_uri": "https://localhost:8080/"
        },
        "id": "IlkM7Pej77RK",
        "outputId": "c3a776c3-4bf4-4889-be87-1317b84a214b"
      },
      "outputs": [
        {
          "output_type": "stream",
          "name": "stdout",
          "text": [
            "Drive already mounted at /content/drive; to attempt to forcibly remount, call drive.mount(\"/content/drive\", force_remount=True).\n"
          ]
        }
      ],
      "source": [
        "from google.colab import drive\n",
        "drive.mount('/content/drive')"
      ]
    },
    {
      "cell_type": "code",
      "execution_count": 3,
      "metadata": {
        "colab": {
          "base_uri": "https://localhost:8080/"
        },
        "id": "PxRulGVPKc3e",
        "outputId": "7169b9ac-aaeb-4a09-c756-4144f8556b56"
      },
      "outputs": [
        {
          "output_type": "stream",
          "name": "stderr",
          "text": [
            "201030it [02:18, 1453.78it/s]\n"
          ]
        }
      ],
      "source": [
        "responses = []\n",
        "\n",
        "with bz2.BZ2File('/content/drive/MyDrive/banki_responses.json.bz2', 'r') as thefile:\n",
        "    for row in tqdm(thefile):\n",
        "        resp = json.loads(row)\n",
        "        if not resp['rating_not_checked'] and (len(resp['text'].split()) > 0):\n",
        "            responses.append(resp)"
      ]
    },
    {
      "cell_type": "code",
      "execution_count": 4,
      "metadata": {
        "colab": {
          "base_uri": "https://localhost:8080/"
        },
        "id": "4Hms997VKc5r",
        "outputId": "ac9ac1c8-e7fb-41eb-f5d2-e6832b0a3934"
      },
      "outputs": [
        {
          "output_type": "execute_result",
          "data": {
            "text/plain": [
              "{'city': 'г. Москва',\n",
              " 'rating_not_checked': False,\n",
              " 'title': 'Жалоба',\n",
              " 'num_comments': 0,\n",
              " 'bank_license': 'лицензия № 2562',\n",
              " 'author': 'uhnov1',\n",
              " 'bank_name': 'Бинбанк',\n",
              " 'datetime': '2015-06-08 12:50:54',\n",
              " 'text': 'Добрый день! Я не являюсь клиентом банка и поручителем по кредитному договору, а также не являюсь каким-либо другим лицом, письменно  оформившим отношения с банком по поводу урегулирования чьей-либо  задолженности.  Начиная с марта 2015 года начали приходить бесконечные письма из ООО \"Примо коллект\"на мой адрес: город Москва, Уваровский переулок, дом 10, квартира 111, с угрозами о возбуждении уголовного дела в отношении гражданина Филиппова Эдуарда Владимировича, который уклоняется от уплаты взятых им кредитов: договор № 81014 от 20.10.2013 года и договор № 2464946 от 09.10.2014 года. Со всей ответственностью\\xa0 хочу Вас заверить, что вышеуказанный гражданин, которого Вы разыскиваете, мне не знаком и никогда в моем адресе не был зарегистрирован. Каким образом Вы не удостоверившись в подлинности его документов оформили на его имя кредитный договор, мне по меньшей мере не понятно,\\xa0 и почему по Вашей милости я должна переживать и бояться за себе и свое имущество. Письма доставляют мне серьезные неудобства, нарушают мои гражданские права, а также нарушают закон о защите персональных данных. Убедительно прошу прекратить посылать на мой адрес письма с угрозами по вопросам, к которым я не имею отношения. В случае отклонения моей претензии буду вынуждена обратиться с жалобами в  другие органы: Росспотребнадзор, Центральный банк, Службу Финансового  омбудсмена. Кроме этого будет подано заявление в полицию и заявление в  суд возмещение причиненного мне морального вреда. Надеюсь на скорое решение моего вопроса.',\n",
              " 'rating_grade': None}"
            ]
          },
          "metadata": {},
          "execution_count": 4
        }
      ],
      "source": [
        "responses[0]"
      ]
    },
    {
      "cell_type": "code",
      "execution_count": 5,
      "metadata": {
        "colab": {
          "base_uri": "https://localhost:8080/",
          "height": 423
        },
        "id": "3yxwtezlLNzx",
        "outputId": "33235ac7-3fb6-4481-ea6b-49980379ddb6"
      },
      "outputs": [
        {
          "output_type": "execute_result",
          "data": {
            "text/plain": [
              "             city  rating_not_checked  \\\n",
              "0       г. Москва               False   \n",
              "1  г. Новосибирск               False   \n",
              "2       г. Москва               False   \n",
              "3   г. Ставрополь               False   \n",
              "4    г. Челябинск               False   \n",
              "\n",
              "                                               title  num_comments  \\\n",
              "0                                             Жалоба             0   \n",
              "1      Не могу пользоваться услугой Сбербанк он-лайн             0   \n",
              "2                    Двойное списание за один товар.             1   \n",
              "3  Меняют проценты комиссии  не предупредив и не ...             2   \n",
              "4             Верните денежные средства за страховку             1   \n",
              "\n",
              "      bank_license       author        bank_name             datetime  \\\n",
              "0  лицензия № 2562       uhnov1          Бинбанк  2015-06-08 12:50:54   \n",
              "1  лицензия № 1481       Foryou  Сбербанк России  2015-06-08 11:09:57   \n",
              "2  лицензия № 2562   Vladimir84          Бинбанк  2015-06-05 20:14:28   \n",
              "3  лицензия № 1481       643609  Сбербанк России  2015-06-05 13:51:01   \n",
              "4  лицензия № 2766  anfisa-2003         ОТП Банк  2015-06-05 10:58:12   \n",
              "\n",
              "                                                text  rating_grade  \n",
              "0  Добрый день! Я не являюсь клиентом банка и пор...           NaN  \n",
              "1  Доброго дня! Являюсь держателем зарплатной кар...           NaN  \n",
              "2  Здравствуйте!  Дублирую свое заявление от 03.0...           NaN  \n",
              "3  Добрый день!! Я открыл расчетный счет в СберБа...           NaN  \n",
              "4  04.03.2015 г. взяла кредит в вашем банке, заяв...           NaN  "
            ],
            "text/html": [
              "\n",
              "\n",
              "  <div id=\"df-ccb4512e-0946-4c48-9e77-e7811f0d3fca\">\n",
              "    <div class=\"colab-df-container\">\n",
              "      <div>\n",
              "<style scoped>\n",
              "    .dataframe tbody tr th:only-of-type {\n",
              "        vertical-align: middle;\n",
              "    }\n",
              "\n",
              "    .dataframe tbody tr th {\n",
              "        vertical-align: top;\n",
              "    }\n",
              "\n",
              "    .dataframe thead th {\n",
              "        text-align: right;\n",
              "    }\n",
              "</style>\n",
              "<table border=\"1\" class=\"dataframe\">\n",
              "  <thead>\n",
              "    <tr style=\"text-align: right;\">\n",
              "      <th></th>\n",
              "      <th>city</th>\n",
              "      <th>rating_not_checked</th>\n",
              "      <th>title</th>\n",
              "      <th>num_comments</th>\n",
              "      <th>bank_license</th>\n",
              "      <th>author</th>\n",
              "      <th>bank_name</th>\n",
              "      <th>datetime</th>\n",
              "      <th>text</th>\n",
              "      <th>rating_grade</th>\n",
              "    </tr>\n",
              "  </thead>\n",
              "  <tbody>\n",
              "    <tr>\n",
              "      <th>0</th>\n",
              "      <td>г. Москва</td>\n",
              "      <td>False</td>\n",
              "      <td>Жалоба</td>\n",
              "      <td>0</td>\n",
              "      <td>лицензия № 2562</td>\n",
              "      <td>uhnov1</td>\n",
              "      <td>Бинбанк</td>\n",
              "      <td>2015-06-08 12:50:54</td>\n",
              "      <td>Добрый день! Я не являюсь клиентом банка и пор...</td>\n",
              "      <td>NaN</td>\n",
              "    </tr>\n",
              "    <tr>\n",
              "      <th>1</th>\n",
              "      <td>г. Новосибирск</td>\n",
              "      <td>False</td>\n",
              "      <td>Не могу пользоваться услугой Сбербанк он-лайн</td>\n",
              "      <td>0</td>\n",
              "      <td>лицензия № 1481</td>\n",
              "      <td>Foryou</td>\n",
              "      <td>Сбербанк России</td>\n",
              "      <td>2015-06-08 11:09:57</td>\n",
              "      <td>Доброго дня! Являюсь держателем зарплатной кар...</td>\n",
              "      <td>NaN</td>\n",
              "    </tr>\n",
              "    <tr>\n",
              "      <th>2</th>\n",
              "      <td>г. Москва</td>\n",
              "      <td>False</td>\n",
              "      <td>Двойное списание за один товар.</td>\n",
              "      <td>1</td>\n",
              "      <td>лицензия № 2562</td>\n",
              "      <td>Vladimir84</td>\n",
              "      <td>Бинбанк</td>\n",
              "      <td>2015-06-05 20:14:28</td>\n",
              "      <td>Здравствуйте!  Дублирую свое заявление от 03.0...</td>\n",
              "      <td>NaN</td>\n",
              "    </tr>\n",
              "    <tr>\n",
              "      <th>3</th>\n",
              "      <td>г. Ставрополь</td>\n",
              "      <td>False</td>\n",
              "      <td>Меняют проценты комиссии  не предупредив и не ...</td>\n",
              "      <td>2</td>\n",
              "      <td>лицензия № 1481</td>\n",
              "      <td>643609</td>\n",
              "      <td>Сбербанк России</td>\n",
              "      <td>2015-06-05 13:51:01</td>\n",
              "      <td>Добрый день!! Я открыл расчетный счет в СберБа...</td>\n",
              "      <td>NaN</td>\n",
              "    </tr>\n",
              "    <tr>\n",
              "      <th>4</th>\n",
              "      <td>г. Челябинск</td>\n",
              "      <td>False</td>\n",
              "      <td>Верните денежные средства за страховку</td>\n",
              "      <td>1</td>\n",
              "      <td>лицензия № 2766</td>\n",
              "      <td>anfisa-2003</td>\n",
              "      <td>ОТП Банк</td>\n",
              "      <td>2015-06-05 10:58:12</td>\n",
              "      <td>04.03.2015 г. взяла кредит в вашем банке, заяв...</td>\n",
              "      <td>NaN</td>\n",
              "    </tr>\n",
              "  </tbody>\n",
              "</table>\n",
              "</div>\n",
              "      <button class=\"colab-df-convert\" onclick=\"convertToInteractive('df-ccb4512e-0946-4c48-9e77-e7811f0d3fca')\"\n",
              "              title=\"Convert this dataframe to an interactive table.\"\n",
              "              style=\"display:none;\">\n",
              "\n",
              "  <svg xmlns=\"http://www.w3.org/2000/svg\" height=\"24px\"viewBox=\"0 0 24 24\"\n",
              "       width=\"24px\">\n",
              "    <path d=\"M0 0h24v24H0V0z\" fill=\"none\"/>\n",
              "    <path d=\"M18.56 5.44l.94 2.06.94-2.06 2.06-.94-2.06-.94-.94-2.06-.94 2.06-2.06.94zm-11 1L8.5 8.5l.94-2.06 2.06-.94-2.06-.94L8.5 2.5l-.94 2.06-2.06.94zm10 10l.94 2.06.94-2.06 2.06-.94-2.06-.94-.94-2.06-.94 2.06-2.06.94z\"/><path d=\"M17.41 7.96l-1.37-1.37c-.4-.4-.92-.59-1.43-.59-.52 0-1.04.2-1.43.59L10.3 9.45l-7.72 7.72c-.78.78-.78 2.05 0 2.83L4 21.41c.39.39.9.59 1.41.59.51 0 1.02-.2 1.41-.59l7.78-7.78 2.81-2.81c.8-.78.8-2.07 0-2.86zM5.41 20L4 18.59l7.72-7.72 1.47 1.35L5.41 20z\"/>\n",
              "  </svg>\n",
              "      </button>\n",
              "\n",
              "\n",
              "\n",
              "    <div id=\"df-d09e1832-4f14-40c3-b1ea-4321fad1db4a\">\n",
              "      <button class=\"colab-df-quickchart\" onclick=\"quickchart('df-d09e1832-4f14-40c3-b1ea-4321fad1db4a')\"\n",
              "              title=\"Suggest charts.\"\n",
              "              style=\"display:none;\">\n",
              "\n",
              "<svg xmlns=\"http://www.w3.org/2000/svg\" height=\"24px\"viewBox=\"0 0 24 24\"\n",
              "     width=\"24px\">\n",
              "    <g>\n",
              "        <path d=\"M19 3H5c-1.1 0-2 .9-2 2v14c0 1.1.9 2 2 2h14c1.1 0 2-.9 2-2V5c0-1.1-.9-2-2-2zM9 17H7v-7h2v7zm4 0h-2V7h2v10zm4 0h-2v-4h2v4z\"/>\n",
              "    </g>\n",
              "</svg>\n",
              "      </button>\n",
              "    </div>\n",
              "\n",
              "<style>\n",
              "  .colab-df-quickchart {\n",
              "    background-color: #E8F0FE;\n",
              "    border: none;\n",
              "    border-radius: 50%;\n",
              "    cursor: pointer;\n",
              "    display: none;\n",
              "    fill: #1967D2;\n",
              "    height: 32px;\n",
              "    padding: 0 0 0 0;\n",
              "    width: 32px;\n",
              "  }\n",
              "\n",
              "  .colab-df-quickchart:hover {\n",
              "    background-color: #E2EBFA;\n",
              "    box-shadow: 0px 1px 2px rgba(60, 64, 67, 0.3), 0px 1px 3px 1px rgba(60, 64, 67, 0.15);\n",
              "    fill: #174EA6;\n",
              "  }\n",
              "\n",
              "  [theme=dark] .colab-df-quickchart {\n",
              "    background-color: #3B4455;\n",
              "    fill: #D2E3FC;\n",
              "  }\n",
              "\n",
              "  [theme=dark] .colab-df-quickchart:hover {\n",
              "    background-color: #434B5C;\n",
              "    box-shadow: 0px 1px 3px 1px rgba(0, 0, 0, 0.15);\n",
              "    filter: drop-shadow(0px 1px 2px rgba(0, 0, 0, 0.3));\n",
              "    fill: #FFFFFF;\n",
              "  }\n",
              "</style>\n",
              "\n",
              "    <script>\n",
              "      async function quickchart(key) {\n",
              "        const containerElement = document.querySelector('#' + key);\n",
              "        const charts = await google.colab.kernel.invokeFunction(\n",
              "            'suggestCharts', [key], {});\n",
              "      }\n",
              "    </script>\n",
              "\n",
              "      <script>\n",
              "\n",
              "function displayQuickchartButton(domScope) {\n",
              "  let quickchartButtonEl =\n",
              "    domScope.querySelector('#df-d09e1832-4f14-40c3-b1ea-4321fad1db4a button.colab-df-quickchart');\n",
              "  quickchartButtonEl.style.display =\n",
              "    google.colab.kernel.accessAllowed ? 'block' : 'none';\n",
              "}\n",
              "\n",
              "        displayQuickchartButton(document);\n",
              "      </script>\n",
              "      <style>\n",
              "    .colab-df-container {\n",
              "      display:flex;\n",
              "      flex-wrap:wrap;\n",
              "      gap: 12px;\n",
              "    }\n",
              "\n",
              "    .colab-df-convert {\n",
              "      background-color: #E8F0FE;\n",
              "      border: none;\n",
              "      border-radius: 50%;\n",
              "      cursor: pointer;\n",
              "      display: none;\n",
              "      fill: #1967D2;\n",
              "      height: 32px;\n",
              "      padding: 0 0 0 0;\n",
              "      width: 32px;\n",
              "    }\n",
              "\n",
              "    .colab-df-convert:hover {\n",
              "      background-color: #E2EBFA;\n",
              "      box-shadow: 0px 1px 2px rgba(60, 64, 67, 0.3), 0px 1px 3px 1px rgba(60, 64, 67, 0.15);\n",
              "      fill: #174EA6;\n",
              "    }\n",
              "\n",
              "    [theme=dark] .colab-df-convert {\n",
              "      background-color: #3B4455;\n",
              "      fill: #D2E3FC;\n",
              "    }\n",
              "\n",
              "    [theme=dark] .colab-df-convert:hover {\n",
              "      background-color: #434B5C;\n",
              "      box-shadow: 0px 1px 3px 1px rgba(0, 0, 0, 0.15);\n",
              "      filter: drop-shadow(0px 1px 2px rgba(0, 0, 0, 0.3));\n",
              "      fill: #FFFFFF;\n",
              "    }\n",
              "  </style>\n",
              "\n",
              "      <script>\n",
              "        const buttonEl =\n",
              "          document.querySelector('#df-ccb4512e-0946-4c48-9e77-e7811f0d3fca button.colab-df-convert');\n",
              "        buttonEl.style.display =\n",
              "          google.colab.kernel.accessAllowed ? 'block' : 'none';\n",
              "\n",
              "        async function convertToInteractive(key) {\n",
              "          const element = document.querySelector('#df-ccb4512e-0946-4c48-9e77-e7811f0d3fca');\n",
              "          const dataTable =\n",
              "            await google.colab.kernel.invokeFunction('convertToInteractive',\n",
              "                                                     [key], {});\n",
              "          if (!dataTable) return;\n",
              "\n",
              "          const docLinkHtml = 'Like what you see? Visit the ' +\n",
              "            '<a target=\"_blank\" href=https://colab.research.google.com/notebooks/data_table.ipynb>data table notebook</a>'\n",
              "            + ' to learn more about interactive tables.';\n",
              "          element.innerHTML = '';\n",
              "          dataTable['output_type'] = 'display_data';\n",
              "          await google.colab.output.renderOutput(dataTable, element);\n",
              "          const docLink = document.createElement('div');\n",
              "          docLink.innerHTML = docLinkHtml;\n",
              "          element.appendChild(docLink);\n",
              "        }\n",
              "      </script>\n",
              "    </div>\n",
              "  </div>\n"
            ]
          },
          "metadata": {},
          "execution_count": 5
        }
      ],
      "source": [
        "df = pd.DataFrame(responses)\n",
        "df.head()"
      ]
    },
    {
      "cell_type": "code",
      "execution_count": 6,
      "metadata": {
        "colab": {
          "base_uri": "https://localhost:8080/"
        },
        "id": "8dABSyLdLN8R",
        "outputId": "d77ce2c3-1ffd-4588-b1a9-d421b90d5644"
      },
      "outputs": [
        {
          "output_type": "execute_result",
          "data": {
            "text/plain": [
              "670"
            ]
          },
          "metadata": {},
          "execution_count": 6
        }
      ],
      "source": [
        "len(df['bank_name'].unique())"
      ]
    },
    {
      "cell_type": "code",
      "execution_count": 7,
      "metadata": {
        "colab": {
          "base_uri": "https://localhost:8080/"
        },
        "id": "QJKoqvtMLN_a",
        "outputId": "b6e7afce-fbd0-4aff-c603-346f863a442a"
      },
      "outputs": [
        {
          "output_type": "execute_result",
          "data": {
            "text/plain": [
              "5824"
            ]
          },
          "metadata": {},
          "execution_count": 7
        }
      ],
      "source": [
        "len(df['city'].unique())"
      ]
    },
    {
      "cell_type": "code",
      "execution_count": 8,
      "metadata": {
        "colab": {
          "base_uri": "https://localhost:8080/"
        },
        "id": "fJoLFNsiLOCV",
        "outputId": "45a2179d-b1a8-4185-f8d5-7240e323048e"
      },
      "outputs": [
        {
          "output_type": "execute_result",
          "data": {
            "text/plain": [
              "array(['г. Москва', 'г. Новосибирск', 'г. Ставрополь', ...,\n",
              "       'г. Москва-Владимир', 'г. СПб.',\n",
              "       'г. Краснодарский край, ст.Павловская'], dtype=object)"
            ]
          },
          "metadata": {},
          "execution_count": 8
        }
      ],
      "source": [
        "df.city.unique()"
      ]
    },
    {
      "cell_type": "markdown",
      "metadata": {
        "id": "23imurN29h-7"
      },
      "source": [
        "*Судя по всему, имеется значительное количество некорректно заполненных данных в графе \"city\". Чистку данных проводить не будем, т.к. задача данного д/з в ином.*"
      ]
    },
    {
      "cell_type": "code",
      "execution_count": 9,
      "metadata": {
        "colab": {
          "base_uri": "https://localhost:8080/"
        },
        "id": "hsPk3iMUKc-V",
        "outputId": "31b1498d-0585-4edd-9f19-31059b7c2f92"
      },
      "outputs": [
        {
          "output_type": "stream",
          "name": "stdout",
          "text": [
            "<class 'pandas.core.frame.DataFrame'>\n",
            "RangeIndex: 153499 entries, 0 to 153498\n",
            "Data columns (total 10 columns):\n",
            " #   Column              Non-Null Count   Dtype  \n",
            "---  ------              --------------   -----  \n",
            " 0   city                138325 non-null  object \n",
            " 1   rating_not_checked  153499 non-null  bool   \n",
            " 2   title               153499 non-null  object \n",
            " 3   num_comments        153499 non-null  int64  \n",
            " 4   bank_license        153498 non-null  object \n",
            " 5   author              153479 non-null  object \n",
            " 6   bank_name           153499 non-null  object \n",
            " 7   datetime            153499 non-null  object \n",
            " 8   text                153499 non-null  object \n",
            " 9   rating_grade        88658 non-null   float64\n",
            "dtypes: bool(1), float64(1), int64(1), object(7)\n",
            "memory usage: 10.7+ MB\n"
          ]
        }
      ],
      "source": [
        "df.info()"
      ]
    },
    {
      "cell_type": "code",
      "execution_count": 10,
      "metadata": {
        "colab": {
          "base_uri": "https://localhost:8080/"
        },
        "id": "nN1tKsqSFKEZ",
        "outputId": "71be7dab-f819-4350-eb8f-b0045fbb433c"
      },
      "outputs": [
        {
          "output_type": "stream",
          "name": "stdout",
          "text": [
            "<class 'pandas.core.frame.DataFrame'>\n",
            "Int64Index: 74710 entries, 14 to 138946\n",
            "Data columns (total 10 columns):\n",
            " #   Column              Non-Null Count  Dtype  \n",
            "---  ------              --------------  -----  \n",
            " 0   city                74710 non-null  object \n",
            " 1   rating_not_checked  74710 non-null  bool   \n",
            " 2   title               74710 non-null  object \n",
            " 3   num_comments        74710 non-null  int64  \n",
            " 4   bank_license        74710 non-null  object \n",
            " 5   author              74710 non-null  object \n",
            " 6   bank_name           74710 non-null  object \n",
            " 7   datetime            74710 non-null  object \n",
            " 8   text                74710 non-null  object \n",
            " 9   rating_grade        74710 non-null  float64\n",
            "dtypes: bool(1), float64(1), int64(1), object(7)\n",
            "memory usage: 5.8+ MB\n"
          ]
        }
      ],
      "source": [
        "# для целей данной работы, с учетом дефицита оперативной памяти, удалим все записи с пропусками\n",
        "df = df.dropna()\n",
        "df.info()"
      ]
    },
    {
      "cell_type": "code",
      "execution_count": 11,
      "metadata": {
        "colab": {
          "base_uri": "https://localhost:8080/"
        },
        "id": "vaFQWPaxKdCi",
        "outputId": "718feefd-f0b4-4e98-d6cd-0967e38554c9"
      },
      "outputs": [
        {
          "output_type": "execute_result",
          "data": {
            "text/plain": [
              "bank_name         city              \n",
              "Сбербанк России   г. Москва             4627\n",
              "Альфа-Банк        г. Москва             2041\n",
              "Русский Стандарт  г. Москва             1645\n",
              "ВТБ 24            г. Москва             1542\n",
              "Сбербанк России   г. Санкт-Петербург    1383\n",
              "                                        ... \n",
              "ОТП Банк          г. Ижевск                1\n",
              "                  г. Йошкар-Ола            1\n",
              "                  г. КРАСНОДАР             1\n",
              "                  г. Кавказская            1\n",
              "Ярославич         г. Ярославль             1\n",
              "Name: text, Length: 11932, dtype: int64"
            ]
          },
          "metadata": {},
          "execution_count": 11
        }
      ],
      "source": [
        "# - Посчитайте количество отзывов в разных городах и на разные банки\n",
        "df_banks_by_city = df.groupby(['bank_name', 'city']).count()['text'].sort_values(ascending=False)\n",
        "df_banks_by_city"
      ]
    },
    {
      "cell_type": "code",
      "execution_count": 12,
      "metadata": {
        "colab": {
          "base_uri": "https://localhost:8080/"
        },
        "id": "EawiJ15OWMEu",
        "outputId": "7ed51b82-45be-47de-e84b-243a9456c010"
      },
      "outputs": [
        {
          "output_type": "execute_result",
          "data": {
            "text/plain": [
              "0"
            ]
          },
          "metadata": {},
          "execution_count": 12
        }
      ],
      "source": [
        "del df_banks_by_city\n",
        "del responses\n",
        "\n",
        "import gc\n",
        "gc.collect()"
      ]
    },
    {
      "cell_type": "code",
      "execution_count": 13,
      "metadata": {
        "colab": {
          "base_uri": "https://localhost:8080/",
          "height": 448
        },
        "id": "Xx25SZMDKdEn",
        "outputId": "a2407418-163f-4a4b-d2e2-fa1de117c308"
      },
      "outputs": [
        {
          "output_type": "execute_result",
          "data": {
            "text/plain": [
              "<Axes: >"
            ]
          },
          "metadata": {},
          "execution_count": 13
        },
        {
          "output_type": "display_data",
          "data": {
            "text/plain": [
              "<Figure size 640x480 with 1 Axes>"
            ],
            "image/png": "[encoded data removed]"
          },
          "metadata": {}
        }
      ],
      "source": [
        "# - Постройте гистограмы длин слов в символах и в словах\n",
        "df['len_text'] = df['text'].apply(len)\n",
        "df['len_text'].hist(bins=30)"
      ]
    },
    {
      "cell_type": "code",
      "execution_count": 14,
      "metadata": {
        "id": "w3xd-xHWQP5e"
      },
      "outputs": [],
      "source": [
        "import re\n",
        "regex = re.compile('[А-Яа-я]+')\n",
        "\n",
        "def words_only(text, regex=regex):\n",
        "    try:\n",
        "        return ' '.join(regex.findall(text))\n",
        "    except:\n",
        "        return ''"
      ]
    },
    {
      "cell_type": "code",
      "execution_count": 15,
      "metadata": {
        "colab": {
          "base_uri": "https://localhost:8080/",
          "height": 582
        },
        "id": "h3jo3ma-QP7m",
        "outputId": "2ccf0c28-bc40-4649-93ad-c554df2fa5e0"
      },
      "outputs": [
        {
          "output_type": "execute_result",
          "data": {
            "text/plain": [
              "                  city  rating_not_checked  \\\n",
              "14           г. Москва               False   \n",
              "19           г. Москва               False   \n",
              "33   г. Ростов-на-Дону               False   \n",
              "76  г. Санкт-Петербург               False   \n",
              "85           г. Москва               False   \n",
              "\n",
              "                                                title  num_comments  \\\n",
              "14                                             В Шоке             0   \n",
              "19                 Некомпетентность сотрудников банка             2   \n",
              "33                              Навязывание страховки             1   \n",
              "76              Нарушение договора банковского вклада             0   \n",
              "85  Невозможно оплатить отчисления на капремонт \"Т...             4   \n",
              "\n",
              "       bank_license    author          bank_name             datetime  \\\n",
              "14  лицензия № 2673  yura1189      Тинькофф Банк  2015-06-05 13:52:40   \n",
              "19  лицензия № 1481    agelun    Сбербанк России  2015-06-05 15:00:54   \n",
              "33  лицензия № 1481  Joker888    Сбербанк России  2015-06-05 21:35:40   \n",
              "76  лицензия № 3006  qwarta45  АктивКапитал Банк  2015-06-06 23:42:39   \n",
              "85  лицензия № 1481       721    Сбербанк России  2015-06-04 13:27:04   \n",
              "\n",
              "                                                 text  rating_grade  len_text  \\\n",
              "14  Также как и многие давний клиент банка, был до...           2.0      1649   \n",
              "19  Открыт вклад и счет в USD. Плюс к этому есть з...           1.0      2214   \n",
              "33  Доброго времени! Вчера мне поступило смс-уведо...           1.0      2159   \n",
              "76  05.06.2015г. около 15 часов, пришел в указанны...           1.0      1262   \n",
              "85  Для оплаты коммунальных платежей пользуюсь пла...           1.0       412   \n",
              "\n",
              "                                           words_text  \n",
              "14  также как и многие давний клиент банка был дов...  \n",
              "19  открыт вклад и счет в плюс к этому есть зарпла...  \n",
              "33  доброго времени вчера мне поступило смс уведом...  \n",
              "76  г около часов пришел в указанный офис с намере...  \n",
              "85  для оплаты коммунальных платежей пользуюсь пла...  "
            ],
            "text/html": [
              "\n",
              "\n",
              "  <div id=\"df-8ea05ac9-9c46-4dda-a328-4845d56ffa23\">\n",
              "    <div class=\"colab-df-container\">\n",
              "      <div>\n",
              "<style scoped>\n",
              "    .dataframe tbody tr th:only-of-type {\n",
              "        vertical-align: middle;\n",
              "    }\n",
              "\n",
              "    .dataframe tbody tr th {\n",
              "        vertical-align: top;\n",
              "    }\n",
              "\n",
              "    .dataframe thead th {\n",
              "        text-align: right;\n",
              "    }\n",
              "</style>\n",
              "<table border=\"1\" class=\"dataframe\">\n",
              "  <thead>\n",
              "    <tr style=\"text-align: right;\">\n",
              "      <th></th>\n",
              "      <th>city</th>\n",
              "      <th>rating_not_checked</th>\n",
              "      <th>title</th>\n",
              "      <th>num_comments</th>\n",
              "      <th>bank_license</th>\n",
              "      <th>author</th>\n",
              "      <th>bank_name</th>\n",
              "      <th>datetime</th>\n",
              "      <th>text</th>\n",
              "      <th>rating_grade</th>\n",
              "      <th>len_text</th>\n",
              "      <th>words_text</th>\n",
              "    </tr>\n",
              "  </thead>\n",
              "  <tbody>\n",
              "    <tr>\n",
              "      <th>14</th>\n",
              "      <td>г. Москва</td>\n",
              "      <td>False</td>\n",
              "      <td>В Шоке</td>\n",
              "      <td>0</td>\n",
              "      <td>лицензия № 2673</td>\n",
              "      <td>yura1189</td>\n",
              "      <td>Тинькофф Банк</td>\n",
              "      <td>2015-06-05 13:52:40</td>\n",
              "      <td>Также как и многие давний клиент банка, был до...</td>\n",
              "      <td>2.0</td>\n",
              "      <td>1649</td>\n",
              "      <td>также как и многие давний клиент банка был дов...</td>\n",
              "    </tr>\n",
              "    <tr>\n",
              "      <th>19</th>\n",
              "      <td>г. Москва</td>\n",
              "      <td>False</td>\n",
              "      <td>Некомпетентность сотрудников банка</td>\n",
              "      <td>2</td>\n",
              "      <td>лицензия № 1481</td>\n",
              "      <td>agelun</td>\n",
              "      <td>Сбербанк России</td>\n",
              "      <td>2015-06-05 15:00:54</td>\n",
              "      <td>Открыт вклад и счет в USD. Плюс к этому есть з...</td>\n",
              "      <td>1.0</td>\n",
              "      <td>2214</td>\n",
              "      <td>открыт вклад и счет в плюс к этому есть зарпла...</td>\n",
              "    </tr>\n",
              "    <tr>\n",
              "      <th>33</th>\n",
              "      <td>г. Ростов-на-Дону</td>\n",
              "      <td>False</td>\n",
              "      <td>Навязывание страховки</td>\n",
              "      <td>1</td>\n",
              "      <td>лицензия № 1481</td>\n",
              "      <td>Joker888</td>\n",
              "      <td>Сбербанк России</td>\n",
              "      <td>2015-06-05 21:35:40</td>\n",
              "      <td>Доброго времени! Вчера мне поступило смс-уведо...</td>\n",
              "      <td>1.0</td>\n",
              "      <td>2159</td>\n",
              "      <td>доброго времени вчера мне поступило смс уведом...</td>\n",
              "    </tr>\n",
              "    <tr>\n",
              "      <th>76</th>\n",
              "      <td>г. Санкт-Петербург</td>\n",
              "      <td>False</td>\n",
              "      <td>Нарушение договора банковского вклада</td>\n",
              "      <td>0</td>\n",
              "      <td>лицензия № 3006</td>\n",
              "      <td>qwarta45</td>\n",
              "      <td>АктивКапитал Банк</td>\n",
              "      <td>2015-06-06 23:42:39</td>\n",
              "      <td>05.06.2015г. около 15 часов, пришел в указанны...</td>\n",
              "      <td>1.0</td>\n",
              "      <td>1262</td>\n",
              "      <td>г около часов пришел в указанный офис с намере...</td>\n",
              "    </tr>\n",
              "    <tr>\n",
              "      <th>85</th>\n",
              "      <td>г. Москва</td>\n",
              "      <td>False</td>\n",
              "      <td>Невозможно оплатить отчисления на капремонт \"Т...</td>\n",
              "      <td>4</td>\n",
              "      <td>лицензия № 1481</td>\n",
              "      <td>721</td>\n",
              "      <td>Сбербанк России</td>\n",
              "      <td>2015-06-04 13:27:04</td>\n",
              "      <td>Для оплаты коммунальных платежей пользуюсь пла...</td>\n",
              "      <td>1.0</td>\n",
              "      <td>412</td>\n",
              "      <td>для оплаты коммунальных платежей пользуюсь пла...</td>\n",
              "    </tr>\n",
              "  </tbody>\n",
              "</table>\n",
              "</div>\n",
              "      <button class=\"colab-df-convert\" onclick=\"convertToInteractive('df-8ea05ac9-9c46-4dda-a328-4845d56ffa23')\"\n",
              "              title=\"Convert this dataframe to an interactive table.\"\n",
              "              style=\"display:none;\">\n",
              "\n",
              "  <svg xmlns=\"http://www.w3.org/2000/svg\" height=\"24px\"viewBox=\"0 0 24 24\"\n",
              "       width=\"24px\">\n",
              "    <path d=\"M0 0h24v24H0V0z\" fill=\"none\"/>\n",
              "    <path d=\"M18.56 5.44l.94 2.06.94-2.06 2.06-.94-2.06-.94-.94-2.06-.94 2.06-2.06.94zm-11 1L8.5 8.5l.94-2.06 2.06-.94-2.06-.94L8.5 2.5l-.94 2.06-2.06.94zm10 10l.94 2.06.94-2.06 2.06-.94-2.06-.94-.94-2.06-.94 2.06-2.06.94z\"/><path d=\"M17.41 7.96l-1.37-1.37c-.4-.4-.92-.59-1.43-.59-.52 0-1.04.2-1.43.59L10.3 9.45l-7.72 7.72c-.78.78-.78 2.05 0 2.83L4 21.41c.39.39.9.59 1.41.59.51 0 1.02-.2 1.41-.59l7.78-7.78 2.81-2.81c.8-.78.8-2.07 0-2.86zM5.41 20L4 18.59l7.72-7.72 1.47 1.35L5.41 20z\"/>\n",
              "  </svg>\n",
              "      </button>\n",
              "\n",
              "\n",
              "\n",
              "    <div id=\"df-2d7400eb-a308-4e39-b23f-1af9c5e02d78\">\n",
              "      <button class=\"colab-df-quickchart\" onclick=\"quickchart('df-2d7400eb-a308-4e39-b23f-1af9c5e02d78')\"\n",
              "              title=\"Suggest charts.\"\n",
              "              style=\"display:none;\">\n",
              "\n",
              "<svg xmlns=\"http://www.w3.org/2000/svg\" height=\"24px\"viewBox=\"0 0 24 24\"\n",
              "     width=\"24px\">\n",
              "    <g>\n",
              "        <path d=\"M19 3H5c-1.1 0-2 .9-2 2v14c0 1.1.9 2 2 2h14c1.1 0 2-.9 2-2V5c0-1.1-.9-2-2-2zM9 17H7v-7h2v7zm4 0h-2V7h2v10zm4 0h-2v-4h2v4z\"/>\n",
              "    </g>\n",
              "</svg>\n",
              "      </button>\n",
              "    </div>\n",
              "\n",
              "<style>\n",
              "  .colab-df-quickchart {\n",
              "    background-color: #E8F0FE;\n",
              "    border: none;\n",
              "    border-radius: 50%;\n",
              "    cursor: pointer;\n",
              "    display: none;\n",
              "    fill: #1967D2;\n",
              "    height: 32px;\n",
              "    padding: 0 0 0 0;\n",
              "    width: 32px;\n",
              "  }\n",
              "\n",
              "  .colab-df-quickchart:hover {\n",
              "    background-color: #E2EBFA;\n",
              "    box-shadow: 0px 1px 2px rgba(60, 64, 67, 0.3), 0px 1px 3px 1px rgba(60, 64, 67, 0.15);\n",
              "    fill: #174EA6;\n",
              "  }\n",
              "\n",
              "  [theme=dark] .colab-df-quickchart {\n",
              "    background-color: #3B4455;\n",
              "    fill: #D2E3FC;\n",
              "  }\n",
              "\n",
              "  [theme=dark] .colab-df-quickchart:hover {\n",
              "    background-color: #434B5C;\n",
              "    box-shadow: 0px 1px 3px 1px rgba(0, 0, 0, 0.15);\n",
              "    filter: drop-shadow(0px 1px 2px rgba(0, 0, 0, 0.3));\n",
              "    fill: #FFFFFF;\n",
              "  }\n",
              "</style>\n",
              "\n",
              "    <script>\n",
              "      async function quickchart(key) {\n",
              "        const containerElement = document.querySelector('#' + key);\n",
              "        const charts = await google.colab.kernel.invokeFunction(\n",
              "            'suggestCharts', [key], {});\n",
              "      }\n",
              "    </script>\n",
              "\n",
              "      <script>\n",
              "\n",
              "function displayQuickchartButton(domScope) {\n",
              "  let quickchartButtonEl =\n",
              "    domScope.querySelector('#df-2d7400eb-a308-4e39-b23f-1af9c5e02d78 button.colab-df-quickchart');\n",
              "  quickchartButtonEl.style.display =\n",
              "    google.colab.kernel.accessAllowed ? 'block' : 'none';\n",
              "}\n",
              "\n",
              "        displayQuickchartButton(document);\n",
              "      </script>\n",
              "      <style>\n",
              "    .colab-df-container {\n",
              "      display:flex;\n",
              "      flex-wrap:wrap;\n",
              "      gap: 12px;\n",
              "    }\n",
              "\n",
              "    .colab-df-convert {\n",
              "      background-color: #E8F0FE;\n",
              "      border: none;\n",
              "      border-radius: 50%;\n",
              "      cursor: pointer;\n",
              "      display: none;\n",
              "      fill: #1967D2;\n",
              "      height: 32px;\n",
              "      padding: 0 0 0 0;\n",
              "      width: 32px;\n",
              "    }\n",
              "\n",
              "    .colab-df-convert:hover {\n",
              "      background-color: #E2EBFA;\n",
              "      box-shadow: 0px 1px 2px rgba(60, 64, 67, 0.3), 0px 1px 3px 1px rgba(60, 64, 67, 0.15);\n",
              "      fill: #174EA6;\n",
              "    }\n",
              "\n",
              "    [theme=dark] .colab-df-convert {\n",
              "      background-color: #3B4455;\n",
              "      fill: #D2E3FC;\n",
              "    }\n",
              "\n",
              "    [theme=dark] .colab-df-convert:hover {\n",
              "      background-color: #434B5C;\n",
              "      box-shadow: 0px 1px 3px 1px rgba(0, 0, 0, 0.15);\n",
              "      filter: drop-shadow(0px 1px 2px rgba(0, 0, 0, 0.3));\n",
              "      fill: #FFFFFF;\n",
              "    }\n",
              "  </style>\n",
              "\n",
              "      <script>\n",
              "        const buttonEl =\n",
              "          document.querySelector('#df-8ea05ac9-9c46-4dda-a328-4845d56ffa23 button.colab-df-convert');\n",
              "        buttonEl.style.display =\n",
              "          google.colab.kernel.accessAllowed ? 'block' : 'none';\n",
              "\n",
              "        async function convertToInteractive(key) {\n",
              "          const element = document.querySelector('#df-8ea05ac9-9c46-4dda-a328-4845d56ffa23');\n",
              "          const dataTable =\n",
              "            await google.colab.kernel.invokeFunction('convertToInteractive',\n",
              "                                                     [key], {});\n",
              "          if (!dataTable) return;\n",
              "\n",
              "          const docLinkHtml = 'Like what you see? Visit the ' +\n",
              "            '<a target=\"_blank\" href=https://colab.research.google.com/notebooks/data_table.ipynb>data table notebook</a>'\n",
              "            + ' to learn more about interactive tables.';\n",
              "          element.innerHTML = '';\n",
              "          dataTable['output_type'] = 'display_data';\n",
              "          await google.colab.output.renderOutput(dataTable, element);\n",
              "          const docLink = document.createElement('div');\n",
              "          docLink.innerHTML = docLinkHtml;\n",
              "          element.appendChild(docLink);\n",
              "        }\n",
              "      </script>\n",
              "    </div>\n",
              "  </div>\n"
            ]
          },
          "metadata": {},
          "execution_count": 15
        }
      ],
      "source": [
        "df['words_text'] = (df['text'].str.lower()).apply(words_only)\n",
        "df.head()"
      ]
    },
    {
      "cell_type": "code",
      "execution_count": 16,
      "metadata": {
        "colab": {
          "base_uri": "https://localhost:8080/",
          "height": 448
        },
        "id": "qY0XfNYfQP9z",
        "outputId": "240869a7-46f8-4f32-8adb-ae0a70251855"
      },
      "outputs": [
        {
          "output_type": "execute_result",
          "data": {
            "text/plain": [
              "<Axes: >"
            ]
          },
          "metadata": {},
          "execution_count": 16
        },
        {
          "output_type": "display_data",
          "data": {
            "text/plain": [
              "<Figure size 640x480 with 1 Axes>"
            ],
            "image/png": "[encoded data removed]"
          },
          "metadata": {}
        }
      ],
      "source": [
        "df['words_cnt'] = df['words_text'].apply(lambda x: len(x.split()))\n",
        "df['words_cnt'].hist(bins=30)"
      ]
    },
    {
      "cell_type": "code",
      "execution_count": 17,
      "metadata": {
        "colab": {
          "base_uri": "https://localhost:8080/"
        },
        "id": "7pvC-cLWQP_v",
        "outputId": "03deffc0-db23-47c4-d14c-46f8164a49cf"
      },
      "outputs": [
        {
          "output_type": "stream",
          "name": "stderr",
          "text": [
            "100%|██████████| 74710/74710 [03:39<00:00, 340.18it/s]"
          ]
        },
        {
          "output_type": "stream",
          "name": "stdout",
          "text": [
            "('в', 748789)\n",
            "('и', 594700)\n",
            "('не', 473300)\n",
            "('на', 394752)\n",
            "('что', 365487)\n",
            "('я', 323819)\n",
            "('с', 251617)\n",
            "('по', 205276)\n",
            "('мне', 185064)\n",
            "('банка', 152600)\n"
          ]
        },
        {
          "output_type": "stream",
          "name": "stderr",
          "text": [
            "\n"
          ]
        }
      ],
      "source": [
        "# - Найдите 10 самых частых:\n",
        "#   - слов\n",
        "#   - слов без стоп-слов\n",
        "#   - лемм\n",
        "#   - существительных\n",
        "\n",
        "cnt = Counter()\n",
        "tokens = []\n",
        "n_types = []\n",
        "n_tokens = []\n",
        "\n",
        "for idx, row in tqdm(df.iterrows(), total=len(df)):\n",
        "    tokens = row['words_text'].split()\n",
        "    cnt.update(tokens)\n",
        "    n_types.append(len(cnt))\n",
        "    n_tokens.append(sum(list(cnt.values())))\n",
        "\n",
        "for i in cnt.most_common(10):\n",
        "    print(i)"
      ]
    },
    {
      "cell_type": "code",
      "execution_count": 18,
      "metadata": {
        "colab": {
          "base_uri": "https://localhost:8080/",
          "height": 430
        },
        "id": "bdc6deIPQQBw",
        "outputId": "d337bbdf-5fd9-4714-a57a-7c7a014ed56a"
      },
      "outputs": [
        {
          "output_type": "display_data",
          "data": {
            "text/plain": [
              "<Figure size 640x480 with 1 Axes>"
            ],
            "image/png": "[encoded data removed]"
          },
          "metadata": {}
        }
      ],
      "source": [
        "# - Постройте кривые Ципфа и Хипса\n",
        "\n",
        "frequency_list = sorted(list(cnt.values()), reverse=True)\n",
        "\n",
        "fig, ax = plt.subplots()\n",
        "ax.plot(frequency_list[:300], range(300))\n",
        "plt.show()"
      ]
    },
    {
      "cell_type": "code",
      "execution_count": 19,
      "metadata": {
        "colab": {
          "base_uri": "https://localhost:8080/",
          "height": 448
        },
        "id": "848J5Qy_QQD6",
        "outputId": "00481e11-9da5-4c08-e4db-3905fa2b294f"
      },
      "outputs": [
        {
          "output_type": "display_data",
          "data": {
            "text/plain": [
              "<Figure size 640x480 with 1 Axes>"
            ],
            "image/png": "[encoded data removed]"
          },
          "metadata": {}
        }
      ],
      "source": [
        "fig, ax = plt.subplots()\n",
        "ax.plot(n_tokens, n_types)\n",
        "plt.show()"
      ]
    },
    {
      "cell_type": "code",
      "execution_count": 20,
      "metadata": {
        "colab": {
          "base_uri": "https://localhost:8080/"
        },
        "id": "XesTFC_9QQGT",
        "outputId": "bba1aa0d-bde4-46d5-fd5f-b97e0908a58f"
      },
      "outputs": [
        {
          "output_type": "stream",
          "name": "stderr",
          "text": [
            "[nltk_data] Downloading package stopwords to /root/nltk_data...\n",
            "[nltk_data]   Package stopwords is already up-to-date!\n"
          ]
        }
      ],
      "source": [
        "# продолжение того же пункта - без стоп-слов\n",
        "\n",
        "from nltk.corpus import stopwords\n",
        "nltk.download('stopwords')\n",
        "mystopwords = stopwords.words('russian') + ['это', 'наш' , 'тыс', 'млн', 'млрд', 'также', 'тоже', 'т', 'д']\n",
        "def remove_stopwords(text, mystopwords = mystopwords):\n",
        "    try:\n",
        "        return ' '.join([token for token in text.split() if not token in mystopwords])\n",
        "    except:\n",
        "        return ''"
      ]
    },
    {
      "cell_type": "code",
      "execution_count": 21,
      "metadata": {
        "id": "tjuBG8u6gOKL"
      },
      "outputs": [],
      "source": [
        "tqdm.pandas()"
      ]
    },
    {
      "cell_type": "code",
      "execution_count": 22,
      "metadata": {
        "colab": {
          "base_uri": "https://localhost:8080/"
        },
        "id": "EVhDW9ZlQQH2",
        "outputId": "a03e9023-c992-4ed0-9527-f748e51079e5"
      },
      "outputs": [
        {
          "output_type": "stream",
          "name": "stderr",
          "text": [
            "100%|██████████| 74710/74710 [00:43<00:00, 1727.99it/s]\n"
          ]
        }
      ],
      "source": [
        "df['words_text_no_stops'] = df['words_text'].progress_apply(remove_stopwords)"
      ]
    },
    {
      "cell_type": "code",
      "execution_count": 23,
      "metadata": {
        "colab": {
          "base_uri": "https://localhost:8080/"
        },
        "id": "4ExofbcNQQKG",
        "outputId": "162a9716-4af9-412e-d856-ac63e3306ee5"
      },
      "outputs": [
        {
          "output_type": "stream",
          "name": "stderr",
          "text": [
            "100%|██████████| 74710/74710 [00:12<00:00, 6011.21it/s]\n"
          ]
        },
        {
          "output_type": "stream",
          "name": "stdout",
          "text": [
            "('банка', 152600)\n",
            "('банк', 114850)\n",
            "('деньги', 72829)\n",
            "('карту', 61763)\n",
            "('карты', 57407)\n",
            "('отделение', 42904)\n",
            "('день', 42289)\n",
            "('заявление', 41102)\n",
            "('банке', 39943)\n",
            "('кредит', 39937)\n"
          ]
        }
      ],
      "source": [
        "cnt_stop = Counter()\n",
        "tokens_stop = []\n",
        "\n",
        "for idx, row in tqdm(df.iterrows(), total = len(df)):\n",
        "    tokens_stop = row['words_text_no_stops'].split()\n",
        "    cnt_stop.update(tokens_stop)\n",
        "for i in cnt_stop.most_common(10):\n",
        "    print(i)"
      ]
    },
    {
      "cell_type": "code",
      "execution_count": 24,
      "metadata": {
        "colab": {
          "base_uri": "https://localhost:8080/"
        },
        "id": "4EGuWCSHIKtS",
        "outputId": "584f6d05-a21b-4568-dcbc-41fc7d4a598f"
      },
      "outputs": [
        {
          "output_type": "stream",
          "name": "stdout",
          "text": [
            "('банка', 152600)\n",
            "('банк', 114850)\n",
            "('деньги', 72829)\n",
            "('карту', 61763)\n",
            "('карты', 57407)\n",
            "('отделение', 42904)\n",
            "('день', 42289)\n",
            "('заявление', 41102)\n",
            "('банке', 39943)\n",
            "('кредит', 39937)\n",
            "('время', 38192)\n",
            "('очень', 37340)\n",
            "('г', 36749)\n",
            "('дней', 33541)\n",
            "('счет', 32648)\n",
            "('года', 29831)\n",
            "('карта', 29525)\n",
            "('почему', 29119)\n",
            "('вопрос', 28290)\n",
            "('ответ', 27609)\n",
            "('смс', 26235)\n",
            "('рублей', 25795)\n",
            "('отделении', 25513)\n",
            "('просто', 25176)\n",
            "('сумму', 24649)\n",
            "('минут', 24396)\n",
            "('сегодня', 23998)\n",
            "('офис', 23904)\n",
            "('сказали', 23729)\n",
            "('денег', 23319)\n",
            "('счета', 21868)\n",
            "('номер', 21708)\n",
            "('банком', 21109)\n",
            "('могу', 20958)\n",
            "('нужно', 20909)\n",
            "('руб', 20596)\n",
            "('сотрудники', 20394)\n",
            "('интернет', 20307)\n",
            "('вклад', 19726)\n",
            "('сотрудник', 19364)\n",
            "('кредита', 19173)\n",
            "('карте', 19071)\n",
            "('который', 18923)\n",
            "('е', 18887)\n",
            "('девушка', 18821)\n",
            "('банкомат', 18764)\n",
            "('сбербанка', 18690)\n",
            "('хотя', 18610)\n",
            "('дня', 18195)\n",
            "('мои', 17792)\n",
            "('вс', 17611)\n",
            "('клиентов', 17535)\n",
            "('сразу', 17459)\n",
            "('вообще', 17066)\n",
            "('сотрудников', 16893)\n",
            "('телефону', 16870)\n",
            "('несколько', 16815)\n",
            "('средств', 16794)\n",
            "('сумма', 16677)\n",
            "('отделения', 16633)\n",
            "('моей', 16379)\n",
            "('документы', 16202)\n",
            "('получить', 16131)\n",
            "('сайте', 15985)\n",
            "('которые', 15543)\n",
            "('сказала', 15436)\n",
            "('времени', 15279)\n",
            "('мной', 15121)\n",
            "('срок', 14725)\n",
            "('очереди', 14694)\n",
            "('банку', 14615)\n",
            "('решил', 14511)\n",
            "('договор', 14391)\n",
            "('получил', 14229)\n",
            "('заявку', 13932)\n",
            "('хочу', 13860)\n",
            "('течение', 13825)\n",
            "('работает', 13711)\n",
            "('месяц', 13689)\n",
            "('сбербанк', 13682)\n",
            "('пока', 13670)\n",
            "('никто', 13653)\n",
            "('р', 13646)\n",
            "('снова', 13609)\n",
            "('итоге', 13590)\n",
            "('позвонил', 13483)\n",
            "('вклада', 13441)\n",
            "('клиентом', 13421)\n",
            "('моего', 13385)\n",
            "('сделать', 13200)\n",
            "('платеж', 13106)\n",
            "('месяца', 13008)\n",
            "('работы', 12931)\n",
            "('средства', 12868)\n",
            "('договора', 12778)\n",
            "('офисе', 12633)\n",
            "('спасибо', 12614)\n",
            "('обслуживание', 12403)\n",
            "('свои', 12370)\n",
            "('прошу', 12314)\n"
          ]
        }
      ],
      "source": [
        "# посмотрим 100 наиболее частых слов (после исключения стоп-слов)\n",
        "for i in cnt_stop.most_common(100):\n",
        "    print(i)"
      ]
    },
    {
      "cell_type": "code",
      "execution_count": 25,
      "metadata": {
        "colab": {
          "base_uri": "https://localhost:8080/"
        },
        "id": "qT1u3wDFQQMI",
        "outputId": "87f8c92c-3d74-4261-8303-4126601aaff2"
      },
      "outputs": [
        {
          "output_type": "stream",
          "name": "stdout",
          "text": [
            "Requirement already satisfied: pymorphy2 in /usr/local/lib/python3.10/dist-packages (0.9.1)\n",
            "Requirement already satisfied: dawg-python>=0.7.1 in /usr/local/lib/python3.10/dist-packages (from pymorphy2) (0.7.2)\n",
            "Requirement already satisfied: pymorphy2-dicts-ru<3.0,>=2.4 in /usr/local/lib/python3.10/dist-packages (from pymorphy2) (2.4.417127.4579844)\n",
            "Requirement already satisfied: docopt>=0.6 in /usr/local/lib/python3.10/dist-packages (from pymorphy2) (0.6.2)\n"
          ]
        }
      ],
      "source": [
        "# продолжение того же пункта - леммы\n",
        "\n",
        "!pip install pymorphy2\n",
        "from pymorphy2 import MorphAnalyzer\n",
        "m = MorphAnalyzer()"
      ]
    },
    {
      "cell_type": "code",
      "execution_count": 26,
      "metadata": {
        "id": "2H--8LTjQQOF"
      },
      "outputs": [],
      "source": [
        "def lemmatize(text, morph=m):\n",
        "    try:\n",
        "        return ' '.join([morph.parse(word)[0].normal_form for word in text.split()])\n",
        "    except:\n",
        "        return ' '"
      ]
    },
    {
      "cell_type": "code",
      "execution_count": 27,
      "metadata": {
        "colab": {
          "base_uri": "https://localhost:8080/"
        },
        "id": "rNmFH6xPV5YY",
        "outputId": "b934b300-ca15-46c3-be36-d632dca5f30a"
      },
      "outputs": [
        {
          "output_type": "execute_result",
          "data": {
            "text/plain": [
              "3612"
            ]
          },
          "metadata": {},
          "execution_count": 27
        }
      ],
      "source": [
        "del n_types\n",
        "del n_tokens\n",
        "del mystopwords\n",
        "\n",
        "import gc\n",
        "gc.collect()"
      ]
    },
    {
      "cell_type": "code",
      "execution_count": 28,
      "metadata": {
        "colab": {
          "base_uri": "https://localhost:8080/"
        },
        "id": "bCD_jMbsQQUI",
        "outputId": "2e886f28-8a37-4169-f490-44291540f38b"
      },
      "outputs": [
        {
          "output_type": "stream",
          "name": "stderr",
          "text": [
            "100%|██████████| 74710/74710 [43:49<00:00, 28.41it/s]\n"
          ]
        }
      ],
      "source": [
        "df['lemma'] = df['words_text_no_stops'].progress_apply(lemmatize)"
      ]
    },
    {
      "cell_type": "code",
      "execution_count": 29,
      "metadata": {
        "id": "-AXM6OeWcPwV",
        "colab": {
          "base_uri": "https://localhost:8080/",
          "height": 600
        },
        "outputId": "e04c2e22-be3b-4dbe-ef53-3f9c96d4269b"
      },
      "outputs": [
        {
          "output_type": "execute_result",
          "data": {
            "text/plain": [
              "                  city  rating_not_checked  \\\n",
              "14           г. Москва               False   \n",
              "19           г. Москва               False   \n",
              "33   г. Ростов-на-Дону               False   \n",
              "76  г. Санкт-Петербург               False   \n",
              "85           г. Москва               False   \n",
              "\n",
              "                                                title  num_comments  \\\n",
              "14                                             В Шоке             0   \n",
              "19                 Некомпетентность сотрудников банка             2   \n",
              "33                              Навязывание страховки             1   \n",
              "76              Нарушение договора банковского вклада             0   \n",
              "85  Невозможно оплатить отчисления на капремонт \"Т...             4   \n",
              "\n",
              "       bank_license    author          bank_name             datetime  \\\n",
              "14  лицензия № 2673  yura1189      Тинькофф Банк  2015-06-05 13:52:40   \n",
              "19  лицензия № 1481    agelun    Сбербанк России  2015-06-05 15:00:54   \n",
              "33  лицензия № 1481  Joker888    Сбербанк России  2015-06-05 21:35:40   \n",
              "76  лицензия № 3006  qwarta45  АктивКапитал Банк  2015-06-06 23:42:39   \n",
              "85  лицензия № 1481       721    Сбербанк России  2015-06-04 13:27:04   \n",
              "\n",
              "                                                 text  rating_grade  len_text  \\\n",
              "14  Также как и многие давний клиент банка, был до...           2.0      1649   \n",
              "19  Открыт вклад и счет в USD. Плюс к этому есть з...           1.0      2214   \n",
              "33  Доброго времени! Вчера мне поступило смс-уведо...           1.0      2159   \n",
              "76  05.06.2015г. около 15 часов, пришел в указанны...           1.0      1262   \n",
              "85  Для оплаты коммунальных платежей пользуюсь пла...           1.0       412   \n",
              "\n",
              "                                           words_text  words_cnt  \\\n",
              "14  также как и многие давний клиент банка был дов...        237   \n",
              "19  открыт вклад и счет в плюс к этому есть зарпла...        342   \n",
              "33  доброго времени вчера мне поступило смс уведом...        311   \n",
              "76  г около часов пришел в указанный офис с намере...        184   \n",
              "85  для оплаты коммунальных платежей пользуюсь пла...         57   \n",
              "\n",
              "                                  words_text_no_stops  \\\n",
              "14  многие давний клиент банка доволен высшей степ...   \n",
              "19  открыт вклад счет плюс этому зарплатная карта ...   \n",
              "33  доброго времени вчера поступило смс уведомлени...   \n",
              "76  г около часов пришел указанный офис намерением...   \n",
              "85  оплаты коммунальных платежей пользуюсь пластик...   \n",
              "\n",
              "                                                lemma  \n",
              "14  многие давний клиент банк довольный высокий ст...  \n",
              "19  открыть вклад счёт плюс этот зарплатный карта ...  \n",
              "33  добрый время вчера поступить смс уведомление б...  \n",
              "76  г около час прийти указанный офис намерение по...  \n",
              "85  оплата коммунальный платёж пользоваться пласти...  "
            ],
            "text/html": [
              "\n",
              "\n",
              "  <div id=\"df-8aa2a70b-0191-47cc-9fcd-dd5bb6d064db\">\n",
              "    <div class=\"colab-df-container\">\n",
              "      <div>\n",
              "<style scoped>\n",
              "    .dataframe tbody tr th:only-of-type {\n",
              "        vertical-align: middle;\n",
              "    }\n",
              "\n",
              "    .dataframe tbody tr th {\n",
              "        vertical-align: top;\n",
              "    }\n",
              "\n",
              "    .dataframe thead th {\n",
              "        text-align: right;\n",
              "    }\n",
              "</style>\n",
              "<table border=\"1\" class=\"dataframe\">\n",
              "  <thead>\n",
              "    <tr style=\"text-align: right;\">\n",
              "      <th></th>\n",
              "      <th>city</th>\n",
              "      <th>rating_not_checked</th>\n",
              "      <th>title</th>\n",
              "      <th>num_comments</th>\n",
              "      <th>bank_license</th>\n",
              "      <th>author</th>\n",
              "      <th>bank_name</th>\n",
              "      <th>datetime</th>\n",
              "      <th>text</th>\n",
              "      <th>rating_grade</th>\n",
              "      <th>len_text</th>\n",
              "      <th>words_text</th>\n",
              "      <th>words_cnt</th>\n",
              "      <th>words_text_no_stops</th>\n",
              "      <th>lemma</th>\n",
              "    </tr>\n",
              "  </thead>\n",
              "  <tbody>\n",
              "    <tr>\n",
              "      <th>14</th>\n",
              "      <td>г. Москва</td>\n",
              "      <td>False</td>\n",
              "      <td>В Шоке</td>\n",
              "      <td>0</td>\n",
              "      <td>лицензия № 2673</td>\n",
              "      <td>yura1189</td>\n",
              "      <td>Тинькофф Банк</td>\n",
              "      <td>2015-06-05 13:52:40</td>\n",
              "      <td>Также как и многие давний клиент банка, был до...</td>\n",
              "      <td>2.0</td>\n",
              "      <td>1649</td>\n",
              "      <td>также как и многие давний клиент банка был дов...</td>\n",
              "      <td>237</td>\n",
              "      <td>многие давний клиент банка доволен высшей степ...</td>\n",
              "      <td>многие давний клиент банк довольный высокий ст...</td>\n",
              "    </tr>\n",
              "    <tr>\n",
              "      <th>19</th>\n",
              "      <td>г. Москва</td>\n",
              "      <td>False</td>\n",
              "      <td>Некомпетентность сотрудников банка</td>\n",
              "      <td>2</td>\n",
              "      <td>лицензия № 1481</td>\n",
              "      <td>agelun</td>\n",
              "      <td>Сбербанк России</td>\n",
              "      <td>2015-06-05 15:00:54</td>\n",
              "      <td>Открыт вклад и счет в USD. Плюс к этому есть з...</td>\n",
              "      <td>1.0</td>\n",
              "      <td>2214</td>\n",
              "      <td>открыт вклад и счет в плюс к этому есть зарпла...</td>\n",
              "      <td>342</td>\n",
              "      <td>открыт вклад счет плюс этому зарплатная карта ...</td>\n",
              "      <td>открыть вклад счёт плюс этот зарплатный карта ...</td>\n",
              "    </tr>\n",
              "    <tr>\n",
              "      <th>33</th>\n",
              "      <td>г. Ростов-на-Дону</td>\n",
              "      <td>False</td>\n",
              "      <td>Навязывание страховки</td>\n",
              "      <td>1</td>\n",
              "      <td>лицензия № 1481</td>\n",
              "      <td>Joker888</td>\n",
              "      <td>Сбербанк России</td>\n",
              "      <td>2015-06-05 21:35:40</td>\n",
              "      <td>Доброго времени! Вчера мне поступило смс-уведо...</td>\n",
              "      <td>1.0</td>\n",
              "      <td>2159</td>\n",
              "      <td>доброго времени вчера мне поступило смс уведом...</td>\n",
              "      <td>311</td>\n",
              "      <td>доброго времени вчера поступило смс уведомлени...</td>\n",
              "      <td>добрый время вчера поступить смс уведомление б...</td>\n",
              "    </tr>\n",
              "    <tr>\n",
              "      <th>76</th>\n",
              "      <td>г. Санкт-Петербург</td>\n",
              "      <td>False</td>\n",
              "      <td>Нарушение договора банковского вклада</td>\n",
              "      <td>0</td>\n",
              "      <td>лицензия № 3006</td>\n",
              "      <td>qwarta45</td>\n",
              "      <td>АктивКапитал Банк</td>\n",
              "      <td>2015-06-06 23:42:39</td>\n",
              "      <td>05.06.2015г. около 15 часов, пришел в указанны...</td>\n",
              "      <td>1.0</td>\n",
              "      <td>1262</td>\n",
              "      <td>г около часов пришел в указанный офис с намере...</td>\n",
              "      <td>184</td>\n",
              "      <td>г около часов пришел указанный офис намерением...</td>\n",
              "      <td>г около час прийти указанный офис намерение по...</td>\n",
              "    </tr>\n",
              "    <tr>\n",
              "      <th>85</th>\n",
              "      <td>г. Москва</td>\n",
              "      <td>False</td>\n",
              "      <td>Невозможно оплатить отчисления на капремонт \"Т...</td>\n",
              "      <td>4</td>\n",
              "      <td>лицензия № 1481</td>\n",
              "      <td>721</td>\n",
              "      <td>Сбербанк России</td>\n",
              "      <td>2015-06-04 13:27:04</td>\n",
              "      <td>Для оплаты коммунальных платежей пользуюсь пла...</td>\n",
              "      <td>1.0</td>\n",
              "      <td>412</td>\n",
              "      <td>для оплаты коммунальных платежей пользуюсь пла...</td>\n",
              "      <td>57</td>\n",
              "      <td>оплаты коммунальных платежей пользуюсь пластик...</td>\n",
              "      <td>оплата коммунальный платёж пользоваться пласти...</td>\n",
              "    </tr>\n",
              "  </tbody>\n",
              "</table>\n",
              "</div>\n",
              "      <button class=\"colab-df-convert\" onclick=\"convertToInteractive('df-8aa2a70b-0191-47cc-9fcd-dd5bb6d064db')\"\n",
              "              title=\"Convert this dataframe to an interactive table.\"\n",
              "              style=\"display:none;\">\n",
              "\n",
              "  <svg xmlns=\"http://www.w3.org/2000/svg\" height=\"24px\"viewBox=\"0 0 24 24\"\n",
              "       width=\"24px\">\n",
              "    <path d=\"M0 0h24v24H0V0z\" fill=\"none\"/>\n",
              "    <path d=\"M18.56 5.44l.94 2.06.94-2.06 2.06-.94-2.06-.94-.94-2.06-.94 2.06-2.06.94zm-11 1L8.5 8.5l.94-2.06 2.06-.94-2.06-.94L8.5 2.5l-.94 2.06-2.06.94zm10 10l.94 2.06.94-2.06 2.06-.94-2.06-.94-.94-2.06-.94 2.06-2.06.94z\"/><path d=\"M17.41 7.96l-1.37-1.37c-.4-.4-.92-.59-1.43-.59-.52 0-1.04.2-1.43.59L10.3 9.45l-7.72 7.72c-.78.78-.78 2.05 0 2.83L4 21.41c.39.39.9.59 1.41.59.51 0 1.02-.2 1.41-.59l7.78-7.78 2.81-2.81c.8-.78.8-2.07 0-2.86zM5.41 20L4 18.59l7.72-7.72 1.47 1.35L5.41 20z\"/>\n",
              "  </svg>\n",
              "      </button>\n",
              "\n",
              "\n",
              "\n",
              "    <div id=\"df-4f434cb0-d34f-4808-ad07-a966cdda7e14\">\n",
              "      <button class=\"colab-df-quickchart\" onclick=\"quickchart('df-4f434cb0-d34f-4808-ad07-a966cdda7e14')\"\n",
              "              title=\"Suggest charts.\"\n",
              "              style=\"display:none;\">\n",
              "\n",
              "<svg xmlns=\"http://www.w3.org/2000/svg\" height=\"24px\"viewBox=\"0 0 24 24\"\n",
              "     width=\"24px\">\n",
              "    <g>\n",
              "        <path d=\"M19 3H5c-1.1 0-2 .9-2 2v14c0 1.1.9 2 2 2h14c1.1 0 2-.9 2-2V5c0-1.1-.9-2-2-2zM9 17H7v-7h2v7zm4 0h-2V7h2v10zm4 0h-2v-4h2v4z\"/>\n",
              "    </g>\n",
              "</svg>\n",
              "      </button>\n",
              "    </div>\n",
              "\n",
              "<style>\n",
              "  .colab-df-quickchart {\n",
              "    background-color: #E8F0FE;\n",
              "    border: none;\n",
              "    border-radius: 50%;\n",
              "    cursor: pointer;\n",
              "    display: none;\n",
              "    fill: #1967D2;\n",
              "    height: 32px;\n",
              "    padding: 0 0 0 0;\n",
              "    width: 32px;\n",
              "  }\n",
              "\n",
              "  .colab-df-quickchart:hover {\n",
              "    background-color: #E2EBFA;\n",
              "    box-shadow: 0px 1px 2px rgba(60, 64, 67, 0.3), 0px 1px 3px 1px rgba(60, 64, 67, 0.15);\n",
              "    fill: #174EA6;\n",
              "  }\n",
              "\n",
              "  [theme=dark] .colab-df-quickchart {\n",
              "    background-color: #3B4455;\n",
              "    fill: #D2E3FC;\n",
              "  }\n",
              "\n",
              "  [theme=dark] .colab-df-quickchart:hover {\n",
              "    background-color: #434B5C;\n",
              "    box-shadow: 0px 1px 3px 1px rgba(0, 0, 0, 0.15);\n",
              "    filter: drop-shadow(0px 1px 2px rgba(0, 0, 0, 0.3));\n",
              "    fill: #FFFFFF;\n",
              "  }\n",
              "</style>\n",
              "\n",
              "    <script>\n",
              "      async function quickchart(key) {\n",
              "        const containerElement = document.querySelector('#' + key);\n",
              "        const charts = await google.colab.kernel.invokeFunction(\n",
              "            'suggestCharts', [key], {});\n",
              "      }\n",
              "    </script>\n",
              "\n",
              "      <script>\n",
              "\n",
              "function displayQuickchartButton(domScope) {\n",
              "  let quickchartButtonEl =\n",
              "    domScope.querySelector('#df-4f434cb0-d34f-4808-ad07-a966cdda7e14 button.colab-df-quickchart');\n",
              "  quickchartButtonEl.style.display =\n",
              "    google.colab.kernel.accessAllowed ? 'block' : 'none';\n",
              "}\n",
              "\n",
              "        displayQuickchartButton(document);\n",
              "      </script>\n",
              "      <style>\n",
              "    .colab-df-container {\n",
              "      display:flex;\n",
              "      flex-wrap:wrap;\n",
              "      gap: 12px;\n",
              "    }\n",
              "\n",
              "    .colab-df-convert {\n",
              "      background-color: #E8F0FE;\n",
              "      border: none;\n",
              "      border-radius: 50%;\n",
              "      cursor: pointer;\n",
              "      display: none;\n",
              "      fill: #1967D2;\n",
              "      height: 32px;\n",
              "      padding: 0 0 0 0;\n",
              "      width: 32px;\n",
              "    }\n",
              "\n",
              "    .colab-df-convert:hover {\n",
              "      background-color: #E2EBFA;\n",
              "      box-shadow: 0px 1px 2px rgba(60, 64, 67, 0.3), 0px 1px 3px 1px rgba(60, 64, 67, 0.15);\n",
              "      fill: #174EA6;\n",
              "    }\n",
              "\n",
              "    [theme=dark] .colab-df-convert {\n",
              "      background-color: #3B4455;\n",
              "      fill: #D2E3FC;\n",
              "    }\n",
              "\n",
              "    [theme=dark] .colab-df-convert:hover {\n",
              "      background-color: #434B5C;\n",
              "      box-shadow: 0px 1px 3px 1px rgba(0, 0, 0, 0.15);\n",
              "      filter: drop-shadow(0px 1px 2px rgba(0, 0, 0, 0.3));\n",
              "      fill: #FFFFFF;\n",
              "    }\n",
              "  </style>\n",
              "\n",
              "      <script>\n",
              "        const buttonEl =\n",
              "          document.querySelector('#df-8aa2a70b-0191-47cc-9fcd-dd5bb6d064db button.colab-df-convert');\n",
              "        buttonEl.style.display =\n",
              "          google.colab.kernel.accessAllowed ? 'block' : 'none';\n",
              "\n",
              "        async function convertToInteractive(key) {\n",
              "          const element = document.querySelector('#df-8aa2a70b-0191-47cc-9fcd-dd5bb6d064db');\n",
              "          const dataTable =\n",
              "            await google.colab.kernel.invokeFunction('convertToInteractive',\n",
              "                                                     [key], {});\n",
              "          if (!dataTable) return;\n",
              "\n",
              "          const docLinkHtml = 'Like what you see? Visit the ' +\n",
              "            '<a target=\"_blank\" href=https://colab.research.google.com/notebooks/data_table.ipynb>data table notebook</a>'\n",
              "            + ' to learn more about interactive tables.';\n",
              "          element.innerHTML = '';\n",
              "          dataTable['output_type'] = 'display_data';\n",
              "          await google.colab.output.renderOutput(dataTable, element);\n",
              "          const docLink = document.createElement('div');\n",
              "          docLink.innerHTML = docLinkHtml;\n",
              "          element.appendChild(docLink);\n",
              "        }\n",
              "      </script>\n",
              "    </div>\n",
              "  </div>\n"
            ]
          },
          "metadata": {},
          "execution_count": 29
        }
      ],
      "source": [
        "df.head()"
      ]
    },
    {
      "cell_type": "code",
      "execution_count": 30,
      "metadata": {
        "id": "pwcfHwTfQQah",
        "colab": {
          "base_uri": "https://localhost:8080/"
        },
        "outputId": "bab0f7c8-e35f-4fdc-994b-bbfe4cecdb40"
      },
      "outputs": [
        {
          "output_type": "stream",
          "name": "stderr",
          "text": [
            "100%|██████████| 74710/74710 [00:20<00:00, 3572.60it/s]\n"
          ]
        },
        {
          "output_type": "stream",
          "name": "stdout",
          "text": [
            "('банк', 363225)\n",
            "('карта', 189965)\n",
            "('деньга', 99900)\n",
            "('день', 99059)\n",
            "('отделение', 92701)\n",
            "('мой', 88064)\n",
            "('который', 83218)\n",
            "('сотрудник', 79824)\n",
            "('кредит', 77237)\n",
            "('клиент', 76436)\n"
          ]
        }
      ],
      "source": [
        "cnt_lemmas = Counter()\n",
        "tokens_lemmas = []\n",
        "\n",
        "for idx, row in tqdm(df.iterrows(), total = len(df)):\n",
        "    tokens_lemmas = row['lemma'].split()\n",
        "    cnt_lemmas.update(tokens_lemmas)\n",
        "\n",
        "for i in cnt_lemmas.most_common(10):\n",
        "    print(i)"
      ]
    },
    {
      "cell_type": "code",
      "execution_count": 31,
      "metadata": {
        "id": "PAOZnv6rWNzT",
        "colab": {
          "base_uri": "https://localhost:8080/"
        },
        "outputId": "2456dde5-9ea4-4267-dc5a-137cbdf8833c"
      },
      "outputs": [
        {
          "output_type": "stream",
          "name": "stdout",
          "text": [
            "Cлово \"сотрудник\" встречается чаще, чем слово \"клиент\" (79824 / 76436 раз)\n",
            "Слово \"мошенничество\" встречается 1193 раз\n",
            "Слово \"доверие\" встречается 1103 раз\n"
          ]
        }
      ],
      "source": [
        "# - Ответьте на следующие вопросы:\n",
        "#   - какое слово встречается чаще, \"сотрудник\" или \"клиент\"?\n",
        "#   - сколько раз встречается слова \"мошенничество\" и \"доверие\"?\n",
        "\n",
        "# оценку будем проводить по леммам\n",
        "\n",
        "employee_cnt = cnt_lemmas['сотрудник']\n",
        "client_cnt = cnt_lemmas['клиент']\n",
        "\n",
        "if client_cnt > employee_cnt:\n",
        "      print(f'Cлово \\\"клиент\\\" встречается чаще, чем слово \\\"сотрудник\\\" ({client_cnt} / {employee_cnt} раз)')\n",
        "else:\n",
        "      print(f'Cлово \\\"сотрудник\\\" встречается чаще, чем слово \\\"клиент\\\" ({employee_cnt} / {client_cnt} раз)')\n",
        "\n",
        "scam_cnt = cnt_lemmas['мошенничество']\n",
        "print(f'Слово \\\"мошенничество\\\" встречается {scam_cnt} раз')\n",
        "\n",
        "trust_cnt = cnt_lemmas['доверие']\n",
        "print(f'Слово \\\"доверие\\\" встречается {trust_cnt} раз')"
      ]
    },
    {
      "cell_type": "code",
      "execution_count": 32,
      "metadata": {
        "id": "jKL4UmsaqIVw"
      },
      "outputs": [],
      "source": [
        "# сохранение промежуточного состояния датафрейма\n",
        "# df.to_csv('df_v3.csv')\n",
        "# df = pd.read_csv('df_v3.csv')"
      ]
    },
    {
      "cell_type": "code",
      "execution_count": 33,
      "metadata": {
        "id": "UBIhp3xCWN1O"
      },
      "outputs": [],
      "source": [
        "# В поле \"rating_grade\" записана оценка отзыва по шкале от 1 до 5.\n",
        "# Используйте меру tf-idf, для того, чтобы найти ключевые слова и биграмы\n",
        "# для положительных отзывов (с оценкой 5) и отрицательных отзывов (с оценкой 1)\n",
        "\n",
        "df['rating_grade'].fillna(0, inplace=True) # заполнение пропусков нулями"
      ]
    },
    {
      "cell_type": "code",
      "execution_count": 34,
      "metadata": {
        "id": "Njtj4DIYWN5S"
      },
      "outputs": [],
      "source": [
        "# запись токенов для каждого рейтинга от 0 до 5\n",
        "\n",
        "tokens_for_every_rating = []\n",
        "\n",
        "for rating in range(6):\n",
        "    tokens = []\n",
        "    subdf = df[df['rating_grade']==rating]['lemma']\n",
        "    for i in range(len(subdf)):\n",
        "        tokens += subdf.iloc[i].split()\n",
        "    tokens_for_every_rating.append(tokens)"
      ]
    },
    {
      "cell_type": "code",
      "execution_count": 35,
      "metadata": {
        "id": "qM5ifi8sWN9i"
      },
      "outputs": [],
      "source": [
        "from sklearn.feature_extraction.text import TfidfVectorizer"
      ]
    },
    {
      "cell_type": "code",
      "execution_count": 36,
      "metadata": {
        "id": "lyrefCPDWOAI"
      },
      "outputs": [],
      "source": [
        "# Ключевые слова (униграмы) отрицательных отзывов\n",
        "tfidf = TfidfVectorizer(analyzer='word', ngram_range=(1,1))\n",
        "tfidf_matrix = tfidf.fit_transform([' '.join(tokens) for tokens in tokens_for_every_rating])\n",
        "features = tfidf.get_feature_names_out()\n",
        "tfidf_ranking_neg_1g = []\n",
        "dense = tfidf_matrix.todense()\n",
        "text = dense[1].tolist()[0]\n",
        "txt_scores = [pair for pair in zip(range(0, len(text)), text) if pair[1] > 0]\n",
        "sorted_txt_scores = sorted(txt_scores, key=lambda t: t[1]*(-1))\n",
        "phrases = []\n",
        "for phrase, score in [(features[word_id], score) for (word_id, score) in sorted_txt_scores][:10]:\n",
        "    tfidf_ranking_neg_1g.append(phrase)"
      ]
    },
    {
      "cell_type": "code",
      "execution_count": 37,
      "metadata": {
        "id": "DrPnOiE_WOBc",
        "colab": {
          "base_uri": "https://localhost:8080/",
          "height": 363
        },
        "outputId": "fccedcb3-17f4-4da4-95e7-8778df3012f4"
      },
      "outputs": [
        {
          "output_type": "execute_result",
          "data": {
            "text/plain": [
              "      neg_1g\n",
              "0       банк\n",
              "1      карта\n",
              "2     деньга\n",
              "3       день\n",
              "4        мой\n",
              "5  отделение\n",
              "6    который\n",
              "7  сотрудник\n",
              "8     кредит\n",
              "9       счёт"
            ],
            "text/html": [
              "\n",
              "\n",
              "  <div id=\"df-a391dd05-ba6e-452b-9787-20c4b334bcd5\">\n",
              "    <div class=\"colab-df-container\">\n",
              "      <div>\n",
              "<style scoped>\n",
              "    .dataframe tbody tr th:only-of-type {\n",
              "        vertical-align: middle;\n",
              "    }\n",
              "\n",
              "    .dataframe tbody tr th {\n",
              "        vertical-align: top;\n",
              "    }\n",
              "\n",
              "    .dataframe thead th {\n",
              "        text-align: right;\n",
              "    }\n",
              "</style>\n",
              "<table border=\"1\" class=\"dataframe\">\n",
              "  <thead>\n",
              "    <tr style=\"text-align: right;\">\n",
              "      <th></th>\n",
              "      <th>neg_1g</th>\n",
              "    </tr>\n",
              "  </thead>\n",
              "  <tbody>\n",
              "    <tr>\n",
              "      <th>0</th>\n",
              "      <td>банк</td>\n",
              "    </tr>\n",
              "    <tr>\n",
              "      <th>1</th>\n",
              "      <td>карта</td>\n",
              "    </tr>\n",
              "    <tr>\n",
              "      <th>2</th>\n",
              "      <td>деньга</td>\n",
              "    </tr>\n",
              "    <tr>\n",
              "      <th>3</th>\n",
              "      <td>день</td>\n",
              "    </tr>\n",
              "    <tr>\n",
              "      <th>4</th>\n",
              "      <td>мой</td>\n",
              "    </tr>\n",
              "    <tr>\n",
              "      <th>5</th>\n",
              "      <td>отделение</td>\n",
              "    </tr>\n",
              "    <tr>\n",
              "      <th>6</th>\n",
              "      <td>который</td>\n",
              "    </tr>\n",
              "    <tr>\n",
              "      <th>7</th>\n",
              "      <td>сотрудник</td>\n",
              "    </tr>\n",
              "    <tr>\n",
              "      <th>8</th>\n",
              "      <td>кредит</td>\n",
              "    </tr>\n",
              "    <tr>\n",
              "      <th>9</th>\n",
              "      <td>счёт</td>\n",
              "    </tr>\n",
              "  </tbody>\n",
              "</table>\n",
              "</div>\n",
              "      <button class=\"colab-df-convert\" onclick=\"convertToInteractive('df-a391dd05-ba6e-452b-9787-20c4b334bcd5')\"\n",
              "              title=\"Convert this dataframe to an interactive table.\"\n",
              "              style=\"display:none;\">\n",
              "\n",
              "  <svg xmlns=\"http://www.w3.org/2000/svg\" height=\"24px\"viewBox=\"0 0 24 24\"\n",
              "       width=\"24px\">\n",
              "    <path d=\"M0 0h24v24H0V0z\" fill=\"none\"/>\n",
              "    <path d=\"M18.56 5.44l.94 2.06.94-2.06 2.06-.94-2.06-.94-.94-2.06-.94 2.06-2.06.94zm-11 1L8.5 8.5l.94-2.06 2.06-.94-2.06-.94L8.5 2.5l-.94 2.06-2.06.94zm10 10l.94 2.06.94-2.06 2.06-.94-2.06-.94-.94-2.06-.94 2.06-2.06.94z\"/><path d=\"M17.41 7.96l-1.37-1.37c-.4-.4-.92-.59-1.43-.59-.52 0-1.04.2-1.43.59L10.3 9.45l-7.72 7.72c-.78.78-.78 2.05 0 2.83L4 21.41c.39.39.9.59 1.41.59.51 0 1.02-.2 1.41-.59l7.78-7.78 2.81-2.81c.8-.78.8-2.07 0-2.86zM5.41 20L4 18.59l7.72-7.72 1.47 1.35L5.41 20z\"/>\n",
              "  </svg>\n",
              "      </button>\n",
              "\n",
              "\n",
              "\n",
              "    <div id=\"df-63135831-a9e4-4279-84df-968a25722656\">\n",
              "      <button class=\"colab-df-quickchart\" onclick=\"quickchart('df-63135831-a9e4-4279-84df-968a25722656')\"\n",
              "              title=\"Suggest charts.\"\n",
              "              style=\"display:none;\">\n",
              "\n",
              "<svg xmlns=\"http://www.w3.org/2000/svg\" height=\"24px\"viewBox=\"0 0 24 24\"\n",
              "     width=\"24px\">\n",
              "    <g>\n",
              "        <path d=\"M19 3H5c-1.1 0-2 .9-2 2v14c0 1.1.9 2 2 2h14c1.1 0 2-.9 2-2V5c0-1.1-.9-2-2-2zM9 17H7v-7h2v7zm4 0h-2V7h2v10zm4 0h-2v-4h2v4z\"/>\n",
              "    </g>\n",
              "</svg>\n",
              "      </button>\n",
              "    </div>\n",
              "\n",
              "<style>\n",
              "  .colab-df-quickchart {\n",
              "    background-color: #E8F0FE;\n",
              "    border: none;\n",
              "    border-radius: 50%;\n",
              "    cursor: pointer;\n",
              "    display: none;\n",
              "    fill: #1967D2;\n",
              "    height: 32px;\n",
              "    padding: 0 0 0 0;\n",
              "    width: 32px;\n",
              "  }\n",
              "\n",
              "  .colab-df-quickchart:hover {\n",
              "    background-color: #E2EBFA;\n",
              "    box-shadow: 0px 1px 2px rgba(60, 64, 67, 0.3), 0px 1px 3px 1px rgba(60, 64, 67, 0.15);\n",
              "    fill: #174EA6;\n",
              "  }\n",
              "\n",
              "  [theme=dark] .colab-df-quickchart {\n",
              "    background-color: #3B4455;\n",
              "    fill: #D2E3FC;\n",
              "  }\n",
              "\n",
              "  [theme=dark] .colab-df-quickchart:hover {\n",
              "    background-color: #434B5C;\n",
              "    box-shadow: 0px 1px 3px 1px rgba(0, 0, 0, 0.15);\n",
              "    filter: drop-shadow(0px 1px 2px rgba(0, 0, 0, 0.3));\n",
              "    fill: #FFFFFF;\n",
              "  }\n",
              "</style>\n",
              "\n",
              "    <script>\n",
              "      async function quickchart(key) {\n",
              "        const containerElement = document.querySelector('#' + key);\n",
              "        const charts = await google.colab.kernel.invokeFunction(\n",
              "            'suggestCharts', [key], {});\n",
              "      }\n",
              "    </script>\n",
              "\n",
              "      <script>\n",
              "\n",
              "function displayQuickchartButton(domScope) {\n",
              "  let quickchartButtonEl =\n",
              "    domScope.querySelector('#df-63135831-a9e4-4279-84df-968a25722656 button.colab-df-quickchart');\n",
              "  quickchartButtonEl.style.display =\n",
              "    google.colab.kernel.accessAllowed ? 'block' : 'none';\n",
              "}\n",
              "\n",
              "        displayQuickchartButton(document);\n",
              "      </script>\n",
              "      <style>\n",
              "    .colab-df-container {\n",
              "      display:flex;\n",
              "      flex-wrap:wrap;\n",
              "      gap: 12px;\n",
              "    }\n",
              "\n",
              "    .colab-df-convert {\n",
              "      background-color: #E8F0FE;\n",
              "      border: none;\n",
              "      border-radius: 50%;\n",
              "      cursor: pointer;\n",
              "      display: none;\n",
              "      fill: #1967D2;\n",
              "      height: 32px;\n",
              "      padding: 0 0 0 0;\n",
              "      width: 32px;\n",
              "    }\n",
              "\n",
              "    .colab-df-convert:hover {\n",
              "      background-color: #E2EBFA;\n",
              "      box-shadow: 0px 1px 2px rgba(60, 64, 67, 0.3), 0px 1px 3px 1px rgba(60, 64, 67, 0.15);\n",
              "      fill: #174EA6;\n",
              "    }\n",
              "\n",
              "    [theme=dark] .colab-df-convert {\n",
              "      background-color: #3B4455;\n",
              "      fill: #D2E3FC;\n",
              "    }\n",
              "\n",
              "    [theme=dark] .colab-df-convert:hover {\n",
              "      background-color: #434B5C;\n",
              "      box-shadow: 0px 1px 3px 1px rgba(0, 0, 0, 0.15);\n",
              "      filter: drop-shadow(0px 1px 2px rgba(0, 0, 0, 0.3));\n",
              "      fill: #FFFFFF;\n",
              "    }\n",
              "  </style>\n",
              "\n",
              "      <script>\n",
              "        const buttonEl =\n",
              "          document.querySelector('#df-a391dd05-ba6e-452b-9787-20c4b334bcd5 button.colab-df-convert');\n",
              "        buttonEl.style.display =\n",
              "          google.colab.kernel.accessAllowed ? 'block' : 'none';\n",
              "\n",
              "        async function convertToInteractive(key) {\n",
              "          const element = document.querySelector('#df-a391dd05-ba6e-452b-9787-20c4b334bcd5');\n",
              "          const dataTable =\n",
              "            await google.colab.kernel.invokeFunction('convertToInteractive',\n",
              "                                                     [key], {});\n",
              "          if (!dataTable) return;\n",
              "\n",
              "          const docLinkHtml = 'Like what you see? Visit the ' +\n",
              "            '<a target=\"_blank\" href=https://colab.research.google.com/notebooks/data_table.ipynb>data table notebook</a>'\n",
              "            + ' to learn more about interactive tables.';\n",
              "          element.innerHTML = '';\n",
              "          dataTable['output_type'] = 'display_data';\n",
              "          await google.colab.output.renderOutput(dataTable, element);\n",
              "          const docLink = document.createElement('div');\n",
              "          docLink.innerHTML = docLinkHtml;\n",
              "          element.appendChild(docLink);\n",
              "        }\n",
              "      </script>\n",
              "    </div>\n",
              "  </div>\n"
            ]
          },
          "metadata": {},
          "execution_count": 37
        }
      ],
      "source": [
        "rankings = pd.DataFrame({'neg_1g': tfidf_ranking_neg_1g})\n",
        "rankings"
      ]
    },
    {
      "cell_type": "code",
      "execution_count": 38,
      "metadata": {
        "id": "lLb0_uvHWODv"
      },
      "outputs": [],
      "source": [
        "# Биграмы отрицательных отзывов\n",
        "tfidf = TfidfVectorizer(analyzer='word', ngram_range=(2,2))\n",
        "tfidf_matrix = tfidf.fit_transform([' '.join(tokens) for tokens in tokens_for_every_rating])\n",
        "features = tfidf.get_feature_names_out()\n",
        "tfidf_ranking_neg_2g = []\n",
        "dense = tfidf_matrix.todense()\n",
        "text = dense[1].tolist()[0]\n",
        "txt_scores = [pair for pair in zip(range(0, len(text)), text) if pair[1] > 0]\n",
        "sorted_txt_scores = sorted(txt_scores, key=lambda t: t[1]*(-1))\n",
        "phrases = []\n",
        "for phrase, score in [(features[word_id], score) for (word_id, score) in sorted_txt_scores][:10]:\n",
        "    tfidf_ranking_neg_2g.append(phrase)"
      ]
    },
    {
      "cell_type": "code",
      "execution_count": 39,
      "metadata": {
        "id": "rMEVzm5zWOHo",
        "colab": {
          "base_uri": "https://localhost:8080/",
          "height": 363
        },
        "outputId": "efddb147-27bb-40a7-e30b-4bea69a921e1"
      },
      "outputs": [
        {
          "output_type": "execute_result",
          "data": {
            "text/plain": [
              "               neg_2g\n",
              "0      сотрудник банк\n",
              "1      отделение банк\n",
              "2   денежный средство\n",
              "3  написать заявление\n",
              "4     кредитный карта\n",
              "5       горячий линия\n",
              "6          колл центр\n",
              "7            ваш банк\n",
              "8        рабочий день\n",
              "9       интернет банк"
            ],
            "text/html": [
              "\n",
              "\n",
              "  <div id=\"df-6cc2d4c6-fef7-4860-b214-81872f3dcb0b\">\n",
              "    <div class=\"colab-df-container\">\n",
              "      <div>\n",
              "<style scoped>\n",
              "    .dataframe tbody tr th:only-of-type {\n",
              "        vertical-align: middle;\n",
              "    }\n",
              "\n",
              "    .dataframe tbody tr th {\n",
              "        vertical-align: top;\n",
              "    }\n",
              "\n",
              "    .dataframe thead th {\n",
              "        text-align: right;\n",
              "    }\n",
              "</style>\n",
              "<table border=\"1\" class=\"dataframe\">\n",
              "  <thead>\n",
              "    <tr style=\"text-align: right;\">\n",
              "      <th></th>\n",
              "      <th>neg_2g</th>\n",
              "    </tr>\n",
              "  </thead>\n",
              "  <tbody>\n",
              "    <tr>\n",
              "      <th>0</th>\n",
              "      <td>сотрудник банк</td>\n",
              "    </tr>\n",
              "    <tr>\n",
              "      <th>1</th>\n",
              "      <td>отделение банк</td>\n",
              "    </tr>\n",
              "    <tr>\n",
              "      <th>2</th>\n",
              "      <td>денежный средство</td>\n",
              "    </tr>\n",
              "    <tr>\n",
              "      <th>3</th>\n",
              "      <td>написать заявление</td>\n",
              "    </tr>\n",
              "    <tr>\n",
              "      <th>4</th>\n",
              "      <td>кредитный карта</td>\n",
              "    </tr>\n",
              "    <tr>\n",
              "      <th>5</th>\n",
              "      <td>горячий линия</td>\n",
              "    </tr>\n",
              "    <tr>\n",
              "      <th>6</th>\n",
              "      <td>колл центр</td>\n",
              "    </tr>\n",
              "    <tr>\n",
              "      <th>7</th>\n",
              "      <td>ваш банк</td>\n",
              "    </tr>\n",
              "    <tr>\n",
              "      <th>8</th>\n",
              "      <td>рабочий день</td>\n",
              "    </tr>\n",
              "    <tr>\n",
              "      <th>9</th>\n",
              "      <td>интернет банк</td>\n",
              "    </tr>\n",
              "  </tbody>\n",
              "</table>\n",
              "</div>\n",
              "      <button class=\"colab-df-convert\" onclick=\"convertToInteractive('df-6cc2d4c6-fef7-4860-b214-81872f3dcb0b')\"\n",
              "              title=\"Convert this dataframe to an interactive table.\"\n",
              "              style=\"display:none;\">\n",
              "\n",
              "  <svg xmlns=\"http://www.w3.org/2000/svg\" height=\"24px\"viewBox=\"0 0 24 24\"\n",
              "       width=\"24px\">\n",
              "    <path d=\"M0 0h24v24H0V0z\" fill=\"none\"/>\n",
              "    <path d=\"M18.56 5.44l.94 2.06.94-2.06 2.06-.94-2.06-.94-.94-2.06-.94 2.06-2.06.94zm-11 1L8.5 8.5l.94-2.06 2.06-.94-2.06-.94L8.5 2.5l-.94 2.06-2.06.94zm10 10l.94 2.06.94-2.06 2.06-.94-2.06-.94-.94-2.06-.94 2.06-2.06.94z\"/><path d=\"M17.41 7.96l-1.37-1.37c-.4-.4-.92-.59-1.43-.59-.52 0-1.04.2-1.43.59L10.3 9.45l-7.72 7.72c-.78.78-.78 2.05 0 2.83L4 21.41c.39.39.9.59 1.41.59.51 0 1.02-.2 1.41-.59l7.78-7.78 2.81-2.81c.8-.78.8-2.07 0-2.86zM5.41 20L4 18.59l7.72-7.72 1.47 1.35L5.41 20z\"/>\n",
              "  </svg>\n",
              "      </button>\n",
              "\n",
              "\n",
              "\n",
              "    <div id=\"df-d4ce1ee1-ec43-4c95-b5e2-be68a4f87aa3\">\n",
              "      <button class=\"colab-df-quickchart\" onclick=\"quickchart('df-d4ce1ee1-ec43-4c95-b5e2-be68a4f87aa3')\"\n",
              "              title=\"Suggest charts.\"\n",
              "              style=\"display:none;\">\n",
              "\n",
              "<svg xmlns=\"http://www.w3.org/2000/svg\" height=\"24px\"viewBox=\"0 0 24 24\"\n",
              "     width=\"24px\">\n",
              "    <g>\n",
              "        <path d=\"M19 3H5c-1.1 0-2 .9-2 2v14c0 1.1.9 2 2 2h14c1.1 0 2-.9 2-2V5c0-1.1-.9-2-2-2zM9 17H7v-7h2v7zm4 0h-2V7h2v10zm4 0h-2v-4h2v4z\"/>\n",
              "    </g>\n",
              "</svg>\n",
              "      </button>\n",
              "    </div>\n",
              "\n",
              "<style>\n",
              "  .colab-df-quickchart {\n",
              "    background-color: #E8F0FE;\n",
              "    border: none;\n",
              "    border-radius: 50%;\n",
              "    cursor: pointer;\n",
              "    display: none;\n",
              "    fill: #1967D2;\n",
              "    height: 32px;\n",
              "    padding: 0 0 0 0;\n",
              "    width: 32px;\n",
              "  }\n",
              "\n",
              "  .colab-df-quickchart:hover {\n",
              "    background-color: #E2EBFA;\n",
              "    box-shadow: 0px 1px 2px rgba(60, 64, 67, 0.3), 0px 1px 3px 1px rgba(60, 64, 67, 0.15);\n",
              "    fill: #174EA6;\n",
              "  }\n",
              "\n",
              "  [theme=dark] .colab-df-quickchart {\n",
              "    background-color: #3B4455;\n",
              "    fill: #D2E3FC;\n",
              "  }\n",
              "\n",
              "  [theme=dark] .colab-df-quickchart:hover {\n",
              "    background-color: #434B5C;\n",
              "    box-shadow: 0px 1px 3px 1px rgba(0, 0, 0, 0.15);\n",
              "    filter: drop-shadow(0px 1px 2px rgba(0, 0, 0, 0.3));\n",
              "    fill: #FFFFFF;\n",
              "  }\n",
              "</style>\n",
              "\n",
              "    <script>\n",
              "      async function quickchart(key) {\n",
              "        const containerElement = document.querySelector('#' + key);\n",
              "        const charts = await google.colab.kernel.invokeFunction(\n",
              "            'suggestCharts', [key], {});\n",
              "      }\n",
              "    </script>\n",
              "\n",
              "      <script>\n",
              "\n",
              "function displayQuickchartButton(domScope) {\n",
              "  let quickchartButtonEl =\n",
              "    domScope.querySelector('#df-d4ce1ee1-ec43-4c95-b5e2-be68a4f87aa3 button.colab-df-quickchart');\n",
              "  quickchartButtonEl.style.display =\n",
              "    google.colab.kernel.accessAllowed ? 'block' : 'none';\n",
              "}\n",
              "\n",
              "        displayQuickchartButton(document);\n",
              "      </script>\n",
              "      <style>\n",
              "    .colab-df-container {\n",
              "      display:flex;\n",
              "      flex-wrap:wrap;\n",
              "      gap: 12px;\n",
              "    }\n",
              "\n",
              "    .colab-df-convert {\n",
              "      background-color: #E8F0FE;\n",
              "      border: none;\n",
              "      border-radius: 50%;\n",
              "      cursor: pointer;\n",
              "      display: none;\n",
              "      fill: #1967D2;\n",
              "      height: 32px;\n",
              "      padding: 0 0 0 0;\n",
              "      width: 32px;\n",
              "    }\n",
              "\n",
              "    .colab-df-convert:hover {\n",
              "      background-color: #E2EBFA;\n",
              "      box-shadow: 0px 1px 2px rgba(60, 64, 67, 0.3), 0px 1px 3px 1px rgba(60, 64, 67, 0.15);\n",
              "      fill: #174EA6;\n",
              "    }\n",
              "\n",
              "    [theme=dark] .colab-df-convert {\n",
              "      background-color: #3B4455;\n",
              "      fill: #D2E3FC;\n",
              "    }\n",
              "\n",
              "    [theme=dark] .colab-df-convert:hover {\n",
              "      background-color: #434B5C;\n",
              "      box-shadow: 0px 1px 3px 1px rgba(0, 0, 0, 0.15);\n",
              "      filter: drop-shadow(0px 1px 2px rgba(0, 0, 0, 0.3));\n",
              "      fill: #FFFFFF;\n",
              "    }\n",
              "  </style>\n",
              "\n",
              "      <script>\n",
              "        const buttonEl =\n",
              "          document.querySelector('#df-6cc2d4c6-fef7-4860-b214-81872f3dcb0b button.colab-df-convert');\n",
              "        buttonEl.style.display =\n",
              "          google.colab.kernel.accessAllowed ? 'block' : 'none';\n",
              "\n",
              "        async function convertToInteractive(key) {\n",
              "          const element = document.querySelector('#df-6cc2d4c6-fef7-4860-b214-81872f3dcb0b');\n",
              "          const dataTable =\n",
              "            await google.colab.kernel.invokeFunction('convertToInteractive',\n",
              "                                                     [key], {});\n",
              "          if (!dataTable) return;\n",
              "\n",
              "          const docLinkHtml = 'Like what you see? Visit the ' +\n",
              "            '<a target=\"_blank\" href=https://colab.research.google.com/notebooks/data_table.ipynb>data table notebook</a>'\n",
              "            + ' to learn more about interactive tables.';\n",
              "          element.innerHTML = '';\n",
              "          dataTable['output_type'] = 'display_data';\n",
              "          await google.colab.output.renderOutput(dataTable, element);\n",
              "          const docLink = document.createElement('div');\n",
              "          docLink.innerHTML = docLinkHtml;\n",
              "          element.appendChild(docLink);\n",
              "        }\n",
              "      </script>\n",
              "    </div>\n",
              "  </div>\n"
            ]
          },
          "metadata": {},
          "execution_count": 39
        }
      ],
      "source": [
        "rankings = pd.DataFrame({'neg_2g': tfidf_ranking_neg_2g})\n",
        "rankings"
      ]
    },
    {
      "cell_type": "code",
      "execution_count": 40,
      "metadata": {
        "id": "qHEeQJZhWOJw"
      },
      "outputs": [],
      "source": [
        "# Ключевые слова (униграмы) положительных отзывов\n",
        "tfidf = TfidfVectorizer(analyzer='word', ngram_range=(1,1))\n",
        "tfidf_matrix = tfidf.fit_transform([' '.join(tokens) for tokens in tokens_for_every_rating])\n",
        "features = tfidf.get_feature_names_out()\n",
        "tfidf_ranking_pos_1g = []\n",
        "dense = tfidf_matrix.todense()\n",
        "text = dense[5].tolist()[0]\n",
        "txt_scores = [pair for pair in zip(range(0, len(text)), text) if pair[1] > 0]\n",
        "sorted_txt_scores = sorted(txt_scores, key=lambda t: t[1]*(-1))\n",
        "phrases = []\n",
        "for phrase, score in [(features[word_id], score) for (word_id, score) in sorted_txt_scores][:10]:\n",
        "    tfidf_ranking_pos_1g.append(phrase)"
      ]
    },
    {
      "cell_type": "code",
      "execution_count": 41,
      "metadata": {
        "id": "0OqLmJrEWOL3",
        "colab": {
          "base_uri": "https://localhost:8080/",
          "height": 363
        },
        "outputId": "5b5e553a-b2dd-4837-9a16-a5a103d9edaa"
      },
      "outputs": [
        {
          "output_type": "execute_result",
          "data": {
            "text/plain": [
              "      pos_1g\n",
              "0       банк\n",
              "1      карта\n",
              "2      очень\n",
              "3     клиент\n",
              "4       день\n",
              "5  сотрудник\n",
              "6     кредит\n",
              "7    который\n",
              "8  отделение\n",
              "9      вклад"
            ],
            "text/html": [
              "\n",
              "\n",
              "  <div id=\"df-51e3c94d-8594-46e8-a223-1301df71c34c\">\n",
              "    <div class=\"colab-df-container\">\n",
              "      <div>\n",
              "<style scoped>\n",
              "    .dataframe tbody tr th:only-of-type {\n",
              "        vertical-align: middle;\n",
              "    }\n",
              "\n",
              "    .dataframe tbody tr th {\n",
              "        vertical-align: top;\n",
              "    }\n",
              "\n",
              "    .dataframe thead th {\n",
              "        text-align: right;\n",
              "    }\n",
              "</style>\n",
              "<table border=\"1\" class=\"dataframe\">\n",
              "  <thead>\n",
              "    <tr style=\"text-align: right;\">\n",
              "      <th></th>\n",
              "      <th>pos_1g</th>\n",
              "    </tr>\n",
              "  </thead>\n",
              "  <tbody>\n",
              "    <tr>\n",
              "      <th>0</th>\n",
              "      <td>банк</td>\n",
              "    </tr>\n",
              "    <tr>\n",
              "      <th>1</th>\n",
              "      <td>карта</td>\n",
              "    </tr>\n",
              "    <tr>\n",
              "      <th>2</th>\n",
              "      <td>очень</td>\n",
              "    </tr>\n",
              "    <tr>\n",
              "      <th>3</th>\n",
              "      <td>клиент</td>\n",
              "    </tr>\n",
              "    <tr>\n",
              "      <th>4</th>\n",
              "      <td>день</td>\n",
              "    </tr>\n",
              "    <tr>\n",
              "      <th>5</th>\n",
              "      <td>сотрудник</td>\n",
              "    </tr>\n",
              "    <tr>\n",
              "      <th>6</th>\n",
              "      <td>кредит</td>\n",
              "    </tr>\n",
              "    <tr>\n",
              "      <th>7</th>\n",
              "      <td>который</td>\n",
              "    </tr>\n",
              "    <tr>\n",
              "      <th>8</th>\n",
              "      <td>отделение</td>\n",
              "    </tr>\n",
              "    <tr>\n",
              "      <th>9</th>\n",
              "      <td>вклад</td>\n",
              "    </tr>\n",
              "  </tbody>\n",
              "</table>\n",
              "</div>\n",
              "      <button class=\"colab-df-convert\" onclick=\"convertToInteractive('df-51e3c94d-8594-46e8-a223-1301df71c34c')\"\n",
              "              title=\"Convert this dataframe to an interactive table.\"\n",
              "              style=\"display:none;\">\n",
              "\n",
              "  <svg xmlns=\"http://www.w3.org/2000/svg\" height=\"24px\"viewBox=\"0 0 24 24\"\n",
              "       width=\"24px\">\n",
              "    <path d=\"M0 0h24v24H0V0z\" fill=\"none\"/>\n",
              "    <path d=\"M18.56 5.44l.94 2.06.94-2.06 2.06-.94-2.06-.94-.94-2.06-.94 2.06-2.06.94zm-11 1L8.5 8.5l.94-2.06 2.06-.94-2.06-.94L8.5 2.5l-.94 2.06-2.06.94zm10 10l.94 2.06.94-2.06 2.06-.94-2.06-.94-.94-2.06-.94 2.06-2.06.94z\"/><path d=\"M17.41 7.96l-1.37-1.37c-.4-.4-.92-.59-1.43-.59-.52 0-1.04.2-1.43.59L10.3 9.45l-7.72 7.72c-.78.78-.78 2.05 0 2.83L4 21.41c.39.39.9.59 1.41.59.51 0 1.02-.2 1.41-.59l7.78-7.78 2.81-2.81c.8-.78.8-2.07 0-2.86zM5.41 20L4 18.59l7.72-7.72 1.47 1.35L5.41 20z\"/>\n",
              "  </svg>\n",
              "      </button>\n",
              "\n",
              "\n",
              "\n",
              "    <div id=\"df-af58fd3d-17f3-4c12-b28c-be72b24c6052\">\n",
              "      <button class=\"colab-df-quickchart\" onclick=\"quickchart('df-af58fd3d-17f3-4c12-b28c-be72b24c6052')\"\n",
              "              title=\"Suggest charts.\"\n",
              "              style=\"display:none;\">\n",
              "\n",
              "<svg xmlns=\"http://www.w3.org/2000/svg\" height=\"24px\"viewBox=\"0 0 24 24\"\n",
              "     width=\"24px\">\n",
              "    <g>\n",
              "        <path d=\"M19 3H5c-1.1 0-2 .9-2 2v14c0 1.1.9 2 2 2h14c1.1 0 2-.9 2-2V5c0-1.1-.9-2-2-2zM9 17H7v-7h2v7zm4 0h-2V7h2v10zm4 0h-2v-4h2v4z\"/>\n",
              "    </g>\n",
              "</svg>\n",
              "      </button>\n",
              "    </div>\n",
              "\n",
              "<style>\n",
              "  .colab-df-quickchart {\n",
              "    background-color: #E8F0FE;\n",
              "    border: none;\n",
              "    border-radius: 50%;\n",
              "    cursor: pointer;\n",
              "    display: none;\n",
              "    fill: #1967D2;\n",
              "    height: 32px;\n",
              "    padding: 0 0 0 0;\n",
              "    width: 32px;\n",
              "  }\n",
              "\n",
              "  .colab-df-quickchart:hover {\n",
              "    background-color: #E2EBFA;\n",
              "    box-shadow: 0px 1px 2px rgba(60, 64, 67, 0.3), 0px 1px 3px 1px rgba(60, 64, 67, 0.15);\n",
              "    fill: #174EA6;\n",
              "  }\n",
              "\n",
              "  [theme=dark] .colab-df-quickchart {\n",
              "    background-color: #3B4455;\n",
              "    fill: #D2E3FC;\n",
              "  }\n",
              "\n",
              "  [theme=dark] .colab-df-quickchart:hover {\n",
              "    background-color: #434B5C;\n",
              "    box-shadow: 0px 1px 3px 1px rgba(0, 0, 0, 0.15);\n",
              "    filter: drop-shadow(0px 1px 2px rgba(0, 0, 0, 0.3));\n",
              "    fill: #FFFFFF;\n",
              "  }\n",
              "</style>\n",
              "\n",
              "    <script>\n",
              "      async function quickchart(key) {\n",
              "        const containerElement = document.querySelector('#' + key);\n",
              "        const charts = await google.colab.kernel.invokeFunction(\n",
              "            'suggestCharts', [key], {});\n",
              "      }\n",
              "    </script>\n",
              "\n",
              "      <script>\n",
              "\n",
              "function displayQuickchartButton(domScope) {\n",
              "  let quickchartButtonEl =\n",
              "    domScope.querySelector('#df-af58fd3d-17f3-4c12-b28c-be72b24c6052 button.colab-df-quickchart');\n",
              "  quickchartButtonEl.style.display =\n",
              "    google.colab.kernel.accessAllowed ? 'block' : 'none';\n",
              "}\n",
              "\n",
              "        displayQuickchartButton(document);\n",
              "      </script>\n",
              "      <style>\n",
              "    .colab-df-container {\n",
              "      display:flex;\n",
              "      flex-wrap:wrap;\n",
              "      gap: 12px;\n",
              "    }\n",
              "\n",
              "    .colab-df-convert {\n",
              "      background-color: #E8F0FE;\n",
              "      border: none;\n",
              "      border-radius: 50%;\n",
              "      cursor: pointer;\n",
              "      display: none;\n",
              "      fill: #1967D2;\n",
              "      height: 32px;\n",
              "      padding: 0 0 0 0;\n",
              "      width: 32px;\n",
              "    }\n",
              "\n",
              "    .colab-df-convert:hover {\n",
              "      background-color: #E2EBFA;\n",
              "      box-shadow: 0px 1px 2px rgba(60, 64, 67, 0.3), 0px 1px 3px 1px rgba(60, 64, 67, 0.15);\n",
              "      fill: #174EA6;\n",
              "    }\n",
              "\n",
              "    [theme=dark] .colab-df-convert {\n",
              "      background-color: #3B4455;\n",
              "      fill: #D2E3FC;\n",
              "    }\n",
              "\n",
              "    [theme=dark] .colab-df-convert:hover {\n",
              "      background-color: #434B5C;\n",
              "      box-shadow: 0px 1px 3px 1px rgba(0, 0, 0, 0.15);\n",
              "      filter: drop-shadow(0px 1px 2px rgba(0, 0, 0, 0.3));\n",
              "      fill: #FFFFFF;\n",
              "    }\n",
              "  </style>\n",
              "\n",
              "      <script>\n",
              "        const buttonEl =\n",
              "          document.querySelector('#df-51e3c94d-8594-46e8-a223-1301df71c34c button.colab-df-convert');\n",
              "        buttonEl.style.display =\n",
              "          google.colab.kernel.accessAllowed ? 'block' : 'none';\n",
              "\n",
              "        async function convertToInteractive(key) {\n",
              "          const element = document.querySelector('#df-51e3c94d-8594-46e8-a223-1301df71c34c');\n",
              "          const dataTable =\n",
              "            await google.colab.kernel.invokeFunction('convertToInteractive',\n",
              "                                                     [key], {});\n",
              "          if (!dataTable) return;\n",
              "\n",
              "          const docLinkHtml = 'Like what you see? Visit the ' +\n",
              "            '<a target=\"_blank\" href=https://colab.research.google.com/notebooks/data_table.ipynb>data table notebook</a>'\n",
              "            + ' to learn more about interactive tables.';\n",
              "          element.innerHTML = '';\n",
              "          dataTable['output_type'] = 'display_data';\n",
              "          await google.colab.output.renderOutput(dataTable, element);\n",
              "          const docLink = document.createElement('div');\n",
              "          docLink.innerHTML = docLinkHtml;\n",
              "          element.appendChild(docLink);\n",
              "        }\n",
              "      </script>\n",
              "    </div>\n",
              "  </div>\n"
            ]
          },
          "metadata": {},
          "execution_count": 41
        }
      ],
      "source": [
        "rankings = pd.DataFrame({'pos_1g': tfidf_ranking_pos_1g})\n",
        "rankings"
      ]
    },
    {
      "cell_type": "code",
      "execution_count": 42,
      "metadata": {
        "id": "cd7Vgpn1WOOK"
      },
      "outputs": [],
      "source": [
        "# Биграмы положительных отзывов\n",
        "tfidf = TfidfVectorizer(analyzer='word', ngram_range=(2,2))\n",
        "tfidf_matrix =  tfidf.fit_transform([' '.join(tokens) for tokens in tokens_for_every_rating])\n",
        "features = tfidf.get_feature_names_out()\n",
        "tfidf_ranking_pos_2g = []\n",
        "dense = tfidf_matrix.todense()\n",
        "text = dense[5].tolist()[0]\n",
        "txt_scores = [pair for pair in zip(range(0, len(text)), text) if pair[1] > 0]\n",
        "sorted_txt_scores = sorted(txt_scores, key=lambda t: t[1]*(-1))\n",
        "phrases = []\n",
        "for phrase, score in [(features[word_id], score) for (word_id, score) in sorted_txt_scores][:10]:\n",
        "    tfidf_ranking_pos_2g.append(phrase)"
      ]
    },
    {
      "cell_type": "code",
      "execution_count": 43,
      "metadata": {
        "id": "b3nROUycWOQA",
        "colab": {
          "base_uri": "https://localhost:8080/",
          "height": 363
        },
        "outputId": "d6ddcc64-77fc-492d-a47e-0755f50db79d"
      },
      "outputs": [
        {
          "output_type": "execute_result",
          "data": {
            "text/plain": [
              "            pos_2g\n",
              "0    интернет банк\n",
              "1   сотрудник банк\n",
              "2      другой банк\n",
              "3  кредитный карта\n",
              "4      клиент банк\n",
              "5   отделение банк\n",
              "6  являться клиент\n",
              "7   следующий день\n",
              "8     банк который\n",
              "9      добрый день"
            ],
            "text/html": [
              "\n",
              "\n",
              "  <div id=\"df-132359a4-be85-4458-8017-b2a02a26c65a\">\n",
              "    <div class=\"colab-df-container\">\n",
              "      <div>\n",
              "<style scoped>\n",
              "    .dataframe tbody tr th:only-of-type {\n",
              "        vertical-align: middle;\n",
              "    }\n",
              "\n",
              "    .dataframe tbody tr th {\n",
              "        vertical-align: top;\n",
              "    }\n",
              "\n",
              "    .dataframe thead th {\n",
              "        text-align: right;\n",
              "    }\n",
              "</style>\n",
              "<table border=\"1\" class=\"dataframe\">\n",
              "  <thead>\n",
              "    <tr style=\"text-align: right;\">\n",
              "      <th></th>\n",
              "      <th>pos_2g</th>\n",
              "    </tr>\n",
              "  </thead>\n",
              "  <tbody>\n",
              "    <tr>\n",
              "      <th>0</th>\n",
              "      <td>интернет банк</td>\n",
              "    </tr>\n",
              "    <tr>\n",
              "      <th>1</th>\n",
              "      <td>сотрудник банк</td>\n",
              "    </tr>\n",
              "    <tr>\n",
              "      <th>2</th>\n",
              "      <td>другой банк</td>\n",
              "    </tr>\n",
              "    <tr>\n",
              "      <th>3</th>\n",
              "      <td>кредитный карта</td>\n",
              "    </tr>\n",
              "    <tr>\n",
              "      <th>4</th>\n",
              "      <td>клиент банк</td>\n",
              "    </tr>\n",
              "    <tr>\n",
              "      <th>5</th>\n",
              "      <td>отделение банк</td>\n",
              "    </tr>\n",
              "    <tr>\n",
              "      <th>6</th>\n",
              "      <td>являться клиент</td>\n",
              "    </tr>\n",
              "    <tr>\n",
              "      <th>7</th>\n",
              "      <td>следующий день</td>\n",
              "    </tr>\n",
              "    <tr>\n",
              "      <th>8</th>\n",
              "      <td>банк который</td>\n",
              "    </tr>\n",
              "    <tr>\n",
              "      <th>9</th>\n",
              "      <td>добрый день</td>\n",
              "    </tr>\n",
              "  </tbody>\n",
              "</table>\n",
              "</div>\n",
              "      <button class=\"colab-df-convert\" onclick=\"convertToInteractive('df-132359a4-be85-4458-8017-b2a02a26c65a')\"\n",
              "              title=\"Convert this dataframe to an interactive table.\"\n",
              "              style=\"display:none;\">\n",
              "\n",
              "  <svg xmlns=\"http://www.w3.org/2000/svg\" height=\"24px\"viewBox=\"0 0 24 24\"\n",
              "       width=\"24px\">\n",
              "    <path d=\"M0 0h24v24H0V0z\" fill=\"none\"/>\n",
              "    <path d=\"M18.56 5.44l.94 2.06.94-2.06 2.06-.94-2.06-.94-.94-2.06-.94 2.06-2.06.94zm-11 1L8.5 8.5l.94-2.06 2.06-.94-2.06-.94L8.5 2.5l-.94 2.06-2.06.94zm10 10l.94 2.06.94-2.06 2.06-.94-2.06-.94-.94-2.06-.94 2.06-2.06.94z\"/><path d=\"M17.41 7.96l-1.37-1.37c-.4-.4-.92-.59-1.43-.59-.52 0-1.04.2-1.43.59L10.3 9.45l-7.72 7.72c-.78.78-.78 2.05 0 2.83L4 21.41c.39.39.9.59 1.41.59.51 0 1.02-.2 1.41-.59l7.78-7.78 2.81-2.81c.8-.78.8-2.07 0-2.86zM5.41 20L4 18.59l7.72-7.72 1.47 1.35L5.41 20z\"/>\n",
              "  </svg>\n",
              "      </button>\n",
              "\n",
              "\n",
              "\n",
              "    <div id=\"df-c73ea99e-ca89-4d9e-9e3b-c679e88c891b\">\n",
              "      <button class=\"colab-df-quickchart\" onclick=\"quickchart('df-c73ea99e-ca89-4d9e-9e3b-c679e88c891b')\"\n",
              "              title=\"Suggest charts.\"\n",
              "              style=\"display:none;\">\n",
              "\n",
              "<svg xmlns=\"http://www.w3.org/2000/svg\" height=\"24px\"viewBox=\"0 0 24 24\"\n",
              "     width=\"24px\">\n",
              "    <g>\n",
              "        <path d=\"M19 3H5c-1.1 0-2 .9-2 2v14c0 1.1.9 2 2 2h14c1.1 0 2-.9 2-2V5c0-1.1-.9-2-2-2zM9 17H7v-7h2v7zm4 0h-2V7h2v10zm4 0h-2v-4h2v4z\"/>\n",
              "    </g>\n",
              "</svg>\n",
              "      </button>\n",
              "    </div>\n",
              "\n",
              "<style>\n",
              "  .colab-df-quickchart {\n",
              "    background-color: #E8F0FE;\n",
              "    border: none;\n",
              "    border-radius: 50%;\n",
              "    cursor: pointer;\n",
              "    display: none;\n",
              "    fill: #1967D2;\n",
              "    height: 32px;\n",
              "    padding: 0 0 0 0;\n",
              "    width: 32px;\n",
              "  }\n",
              "\n",
              "  .colab-df-quickchart:hover {\n",
              "    background-color: #E2EBFA;\n",
              "    box-shadow: 0px 1px 2px rgba(60, 64, 67, 0.3), 0px 1px 3px 1px rgba(60, 64, 67, 0.15);\n",
              "    fill: #174EA6;\n",
              "  }\n",
              "\n",
              "  [theme=dark] .colab-df-quickchart {\n",
              "    background-color: #3B4455;\n",
              "    fill: #D2E3FC;\n",
              "  }\n",
              "\n",
              "  [theme=dark] .colab-df-quickchart:hover {\n",
              "    background-color: #434B5C;\n",
              "    box-shadow: 0px 1px 3px 1px rgba(0, 0, 0, 0.15);\n",
              "    filter: drop-shadow(0px 1px 2px rgba(0, 0, 0, 0.3));\n",
              "    fill: #FFFFFF;\n",
              "  }\n",
              "</style>\n",
              "\n",
              "    <script>\n",
              "      async function quickchart(key) {\n",
              "        const containerElement = document.querySelector('#' + key);\n",
              "        const charts = await google.colab.kernel.invokeFunction(\n",
              "            'suggestCharts', [key], {});\n",
              "      }\n",
              "    </script>\n",
              "\n",
              "      <script>\n",
              "\n",
              "function displayQuickchartButton(domScope) {\n",
              "  let quickchartButtonEl =\n",
              "    domScope.querySelector('#df-c73ea99e-ca89-4d9e-9e3b-c679e88c891b button.colab-df-quickchart');\n",
              "  quickchartButtonEl.style.display =\n",
              "    google.colab.kernel.accessAllowed ? 'block' : 'none';\n",
              "}\n",
              "\n",
              "        displayQuickchartButton(document);\n",
              "      </script>\n",
              "      <style>\n",
              "    .colab-df-container {\n",
              "      display:flex;\n",
              "      flex-wrap:wrap;\n",
              "      gap: 12px;\n",
              "    }\n",
              "\n",
              "    .colab-df-convert {\n",
              "      background-color: #E8F0FE;\n",
              "      border: none;\n",
              "      border-radius: 50%;\n",
              "      cursor: pointer;\n",
              "      display: none;\n",
              "      fill: #1967D2;\n",
              "      height: 32px;\n",
              "      padding: 0 0 0 0;\n",
              "      width: 32px;\n",
              "    }\n",
              "\n",
              "    .colab-df-convert:hover {\n",
              "      background-color: #E2EBFA;\n",
              "      box-shadow: 0px 1px 2px rgba(60, 64, 67, 0.3), 0px 1px 3px 1px rgba(60, 64, 67, 0.15);\n",
              "      fill: #174EA6;\n",
              "    }\n",
              "\n",
              "    [theme=dark] .colab-df-convert {\n",
              "      background-color: #3B4455;\n",
              "      fill: #D2E3FC;\n",
              "    }\n",
              "\n",
              "    [theme=dark] .colab-df-convert:hover {\n",
              "      background-color: #434B5C;\n",
              "      box-shadow: 0px 1px 3px 1px rgba(0, 0, 0, 0.15);\n",
              "      filter: drop-shadow(0px 1px 2px rgba(0, 0, 0, 0.3));\n",
              "      fill: #FFFFFF;\n",
              "    }\n",
              "  </style>\n",
              "\n",
              "      <script>\n",
              "        const buttonEl =\n",
              "          document.querySelector('#df-132359a4-be85-4458-8017-b2a02a26c65a button.colab-df-convert');\n",
              "        buttonEl.style.display =\n",
              "          google.colab.kernel.accessAllowed ? 'block' : 'none';\n",
              "\n",
              "        async function convertToInteractive(key) {\n",
              "          const element = document.querySelector('#df-132359a4-be85-4458-8017-b2a02a26c65a');\n",
              "          const dataTable =\n",
              "            await google.colab.kernel.invokeFunction('convertToInteractive',\n",
              "                                                     [key], {});\n",
              "          if (!dataTable) return;\n",
              "\n",
              "          const docLinkHtml = 'Like what you see? Visit the ' +\n",
              "            '<a target=\"_blank\" href=https://colab.research.google.com/notebooks/data_table.ipynb>data table notebook</a>'\n",
              "            + ' to learn more about interactive tables.';\n",
              "          element.innerHTML = '';\n",
              "          dataTable['output_type'] = 'display_data';\n",
              "          await google.colab.output.renderOutput(dataTable, element);\n",
              "          const docLink = document.createElement('div');\n",
              "          docLink.innerHTML = docLinkHtml;\n",
              "          element.appendChild(docLink);\n",
              "        }\n",
              "      </script>\n",
              "    </div>\n",
              "  </div>\n"
            ]
          },
          "metadata": {},
          "execution_count": 43
        }
      ],
      "source": [
        "rankings = pd.DataFrame({'pos_2g': tfidf_ranking_pos_2g})\n",
        "rankings"
      ]
    },
    {
      "cell_type": "markdown",
      "metadata": {
        "id": "_3pC-E2mwlNn"
      },
      "source": [
        "Некоторые одинаковые биграммы имеются как в списке по позитивным отзывам, там и в топ-листе по негативным отзывам"
      ]
    },
    {
      "cell_type": "code",
      "source": [
        "del tfidf_matrix\n",
        "del features\n",
        "del dense\n",
        "del text\n",
        "del txt_scores\n",
        "del sorted_txt_scores\n",
        "del phrases\n",
        "del rankings\n",
        "\n",
        "gc.collect()"
      ],
      "metadata": {
        "colab": {
          "base_uri": "https://localhost:8080/"
        },
        "id": "m_8FJIZLMiu6",
        "outputId": "73028201-ed19-44a3-f0c9-011c39e4501c"
      },
      "execution_count": 44,
      "outputs": [
        {
          "output_type": "execute_result",
          "data": {
            "text/plain": [
              "102"
            ]
          },
          "metadata": {},
          "execution_count": 44
        }
      ]
    },
    {
      "cell_type": "markdown",
      "metadata": {
        "id": "U5nGszcZZcbs"
      },
      "source": [
        "### Часть 2. Тематическое моделирование"
      ]
    },
    {
      "cell_type": "markdown",
      "metadata": {
        "id": "s225UtcNmIlJ"
      },
      "source": [
        "- Постройте несколько тематических моделей коллекции документов с разным числом тем. Приведите примеры понятных (интерпретируемых) тем.\n",
        "- Найдите темы, в которых упомянуты конкретные банки (Сбербанк, ВТБ, другой банк). Можете ли вы их прокомментировать / объяснить? Эта часть задания может быть сделана с использованием gensim."
      ]
    },
    {
      "cell_type": "code",
      "execution_count": 45,
      "metadata": {
        "id": "jaji05JWmIKS"
      },
      "outputs": [],
      "source": [
        "import gensim.corpora as corpora\n",
        "from gensim.models import ldamodel\n",
        "import random\n",
        "\n",
        "random.seed(23)"
      ]
    },
    {
      "cell_type": "code",
      "execution_count": 46,
      "metadata": {
        "id": "AGCO19gDWOUb"
      },
      "outputs": [],
      "source": [
        "texts = [df['lemma'].iloc[i].split() for i in range(len(df))]\n",
        "dictionary = corpora.Dictionary(texts)\n",
        "corpus = [dictionary.doc2bow(text) for text in texts]"
      ]
    },
    {
      "cell_type": "code",
      "execution_count": 47,
      "metadata": {
        "id": "KLdOlW_cZXa7"
      },
      "outputs": [],
      "source": [
        "lda = ldamodel.LdaModel(corpus=corpus, id2word=dictionary, num_topics=10, alpha='auto', eta='auto')"
      ]
    },
    {
      "cell_type": "code",
      "execution_count": 48,
      "metadata": {
        "id": "EIW_Vd_nZXdE",
        "colab": {
          "base_uri": "https://localhost:8080/"
        },
        "outputId": "89b381eb-273a-40f6-a360-0da473103a44"
      },
      "outputs": [
        {
          "output_type": "stream",
          "name": "stdout",
          "text": [
            "10 тематик:\n"
          ]
        },
        {
          "output_type": "execute_result",
          "data": {
            "text/plain": [
              "[(0,\n",
              "  '0.050*\"деньга\" + 0.042*\"банкомат\" + 0.017*\"день\" + 0.017*\"карта\" + 0.017*\"банк\" + 0.016*\"заявление\" + 0.015*\"сбербанк\" + 0.015*\"счёт\" + 0.013*\"мой\" + 0.010*\"средство\"'),\n",
              " (1,\n",
              "  '0.030*\"банк\" + 0.018*\"звонить\" + 0.016*\"день\" + 0.015*\"кредит\" + 0.013*\"сказать\" + 0.011*\"говорить\" + 0.010*\"позвонить\" + 0.008*\"звонок\" + 0.008*\"заявление\" + 0.008*\"телефон\"'),\n",
              " (2,\n",
              "  '0.027*\"банк\" + 0.021*\"вклад\" + 0.014*\"клиент\" + 0.012*\"очередь\" + 0.012*\"офис\" + 0.009*\"отделение\" + 0.009*\"минута\" + 0.009*\"время\" + 0.009*\"работать\" + 0.008*\"сотрудник\"'),\n",
              " (3,\n",
              "  '0.051*\"банк\" + 0.019*\"мой\" + 0.014*\"договор\" + 0.013*\"сотрудник\" + 0.012*\"г\" + 0.010*\"клиент\" + 0.009*\"который\" + 0.009*\"ваш\" + 0.009*\"заявление\" + 0.009*\"кредитный\"'),\n",
              " (4,\n",
              "  '0.040*\"банк\" + 0.011*\"очень\" + 0.010*\"карта\" + 0.008*\"клиент\" + 0.007*\"год\" + 0.007*\"который\" + 0.007*\"деньга\" + 0.006*\"свой\" + 0.005*\"интернет\" + 0.005*\"обслуживание\"'),\n",
              " (5,\n",
              "  '0.044*\"отделение\" + 0.012*\"сказать\" + 0.011*\"карта\" + 0.011*\"сотрудник\" + 0.010*\"сбербанк\" + 0.010*\"мой\" + 0.008*\"мочь\" + 0.008*\"телефон\" + 0.008*\"вопрос\" + 0.008*\"позвонить\"'),\n",
              " (6,\n",
              "  '0.096*\"карта\" + 0.024*\"банк\" + 0.009*\"заявление\" + 0.008*\"день\" + 0.008*\"смс\" + 0.008*\"кредитный\" + 0.008*\"сказать\" + 0.007*\"услуга\" + 0.007*\"получить\" + 0.006*\"лимит\"'),\n",
              " (7,\n",
              "  '0.040*\"банк\" + 0.023*\"счёт\" + 0.018*\"перевод\" + 0.011*\"операция\" + 0.009*\"сайт\" + 0.009*\"система\" + 0.009*\"клиент\" + 0.008*\"ответ\" + 0.008*\"комиссия\" + 0.007*\"интернет\"'),\n",
              " (8,\n",
              "  '0.033*\"банк\" + 0.031*\"сумма\" + 0.031*\"платёж\" + 0.019*\"счёт\" + 0.014*\"кредит\" + 0.013*\"рубль\" + 0.013*\"задолженность\" + 0.011*\"процент\" + 0.011*\"руб\" + 0.011*\"день\"'),\n",
              " (9,\n",
              "  '0.043*\"кредит\" + 0.030*\"банк\" + 0.023*\"документ\" + 0.017*\"заявка\" + 0.013*\"договор\" + 0.012*\"кредитный\" + 0.010*\"день\" + 0.008*\"менеджер\" + 0.008*\"страховка\" + 0.008*\"который\"')]"
            ]
          },
          "metadata": {},
          "execution_count": 48
        }
      ],
      "source": [
        "print('10 тематик:')\n",
        "lda.show_topics(10)"
      ]
    },
    {
      "cell_type": "code",
      "execution_count": 49,
      "metadata": {
        "id": "70cEZCJ1ZXil"
      },
      "outputs": [],
      "source": [
        "lda = ldamodel.LdaModel(corpus=corpus, id2word=dictionary, num_topics=15, alpha='auto', eta='auto')"
      ]
    },
    {
      "cell_type": "code",
      "execution_count": 50,
      "metadata": {
        "id": "ktzNrY2_ZXkQ",
        "colab": {
          "base_uri": "https://localhost:8080/"
        },
        "outputId": "e3c7b098-da7a-42c0-b2c2-611c2c29455c"
      },
      "outputs": [
        {
          "metadata": {
            "tags": null
          },
          "name": "stdout",
          "output_type": "stream",
          "text": [
            "15 тематик:\n"
          ]
        },
        {
          "output_type": "execute_result",
          "data": {
            "text/plain": [
              "[(0,\n",
              "  '0.039*\"кредит\" + 0.032*\"банк\" + 0.025*\"документ\" + 0.015*\"заявка\" + 0.011*\"договор\" + 0.009*\"кредитный\" + 0.009*\"день\" + 0.009*\"менеджер\" + 0.008*\"страховка\" + 0.008*\"который\"'),\n",
              " (1,\n",
              "  '0.056*\"деньга\" + 0.055*\"банкомат\" + 0.025*\"банк\" + 0.021*\"счёт\" + 0.019*\"карта\" + 0.012*\"сумма\" + 0.011*\"операция\" + 0.010*\"день\" + 0.009*\"средство\" + 0.008*\"снять\"'),\n",
              " (2,\n",
              "  '0.031*\"банк\" + 0.025*\"комиссия\" + 0.020*\"перевод\" + 0.017*\"счёт\" + 0.017*\"рубль\" + 0.015*\"карта\" + 0.013*\"сумма\" + 0.013*\"операция\" + 0.013*\"курс\" + 0.012*\"тариф\"'),\n",
              " (3,\n",
              "  '0.103*\"вклад\" + 0.048*\"банк\" + 0.024*\"открыть\" + 0.023*\"деньга\" + 0.020*\"процент\" + 0.020*\"депозит\" + 0.017*\"договор\" + 0.012*\"открытие\" + 0.011*\"счёт\" + 0.011*\"сумма\"'),\n",
              " (4,\n",
              "  '0.020*\"касса\" + 0.018*\"сотрудник\" + 0.018*\"сказать\" + 0.017*\"кассир\" + 0.012*\"девушка\" + 0.011*\"такой\" + 0.010*\"офис\" + 0.009*\"клиент\" + 0.009*\"который\" + 0.009*\"отделение\"'),\n",
              " (5,\n",
              "  '0.048*\"заявление\" + 0.038*\"день\" + 0.025*\"отделение\" + 0.021*\"написать\" + 0.018*\"деньга\" + 0.018*\"сказать\" + 0.017*\"мой\" + 0.016*\"позвонить\" + 0.013*\"срок\" + 0.013*\"претензия\"'),\n",
              " (6,\n",
              "  '0.124*\"карта\" + 0.022*\"отделение\" + 0.013*\"банк\" + 0.012*\"заявление\" + 0.012*\"счёт\" + 0.011*\"сказать\" + 0.010*\"получить\" + 0.009*\"офис\" + 0.008*\"мой\" + 0.008*\"год\"'),\n",
              " (7,\n",
              "  '0.038*\"банк\" + 0.028*\"письмо\" + 0.025*\"справка\" + 0.020*\"ответ\" + 0.018*\"почта\" + 0.017*\"получить\" + 0.016*\"документ\" + 0.014*\"отправить\" + 0.013*\"адрес\" + 0.011*\"выписка\"'),\n",
              " (8,\n",
              "  '0.045*\"банк\" + 0.030*\"услуга\" + 0.027*\"карта\" + 0.027*\"интернет\" + 0.018*\"смс\" + 0.011*\"подключить\" + 0.009*\"система\" + 0.009*\"пользоваться\" + 0.009*\"мобильный\" + 0.008*\"проблема\"'),\n",
              " (9,\n",
              "  '0.044*\"банк\" + 0.040*\"кредит\" + 0.022*\"платёж\" + 0.020*\"сумма\" + 0.013*\"задолженность\" + 0.012*\"кредитный\" + 0.012*\"год\" + 0.011*\"погашение\" + 0.010*\"месяц\" + 0.009*\"погасить\"'),\n",
              " (10,\n",
              "  '0.031*\"банк\" + 0.022*\"телефон\" + 0.020*\"номер\" + 0.015*\"звонить\" + 0.015*\"звонок\" + 0.014*\"мой\" + 0.012*\"ваш\" + 0.012*\"вопрос\" + 0.011*\"клиент\" + 0.010*\"информация\"'),\n",
              " (11,\n",
              "  '0.068*\"карта\" + 0.038*\"банк\" + 0.021*\"кредитный\" + 0.016*\"центр\" + 0.016*\"день\" + 0.012*\"лимит\" + 0.011*\"заявка\" + 0.011*\"колл\" + 0.008*\"позвонить\" + 0.007*\"вопрос\"'),\n",
              " (12,\n",
              "  '0.012*\"банк\" + 0.012*\"минута\" + 0.010*\"работать\" + 0.010*\"отделение\" + 0.010*\"говорить\" + 0.010*\"день\" + 0.009*\"час\" + 0.009*\"деньга\" + 0.009*\"очередь\" + 0.008*\"сказать\"'),\n",
              " (13,\n",
              "  '0.040*\"банк\" + 0.018*\"клиент\" + 0.015*\"очень\" + 0.010*\"отделение\" + 0.010*\"работа\" + 0.009*\"офис\" + 0.009*\"обслуживание\" + 0.009*\"время\" + 0.008*\"сотрудник\" + 0.008*\"работать\"'),\n",
              " (14,\n",
              "  '0.039*\"банк\" + 0.019*\"счёт\" + 0.015*\"средство\" + 0.014*\"г\" + 0.014*\"договор\" + 0.013*\"мой\" + 0.010*\"сотрудник\" + 0.010*\"денежный\" + 0.009*\"заявление\" + 0.009*\"клиент\"')]"
            ]
          },
          "metadata": {},
          "execution_count": 50
        }
      ],
      "source": [
        "print('15 тематик:')\n",
        "lda.show_topics(15)"
      ]
    },
    {
      "cell_type": "code",
      "execution_count": 51,
      "metadata": {
        "id": "7YdGyK9yZXl9",
        "colab": {
          "base_uri": "https://localhost:8080/"
        },
        "outputId": "489426aa-2d9a-4055-fac9-d9655a021043"
      },
      "outputs": [
        {
          "output_type": "stream",
          "name": "stderr",
          "text": [
            "WARNING:gensim.models.ldamodel:updated prior is not positive\n"
          ]
        }
      ],
      "source": [
        "lda = ldamodel.LdaModel(corpus=corpus, id2word=dictionary, num_topics=5, alpha='auto', eta='auto')"
      ]
    },
    {
      "cell_type": "code",
      "execution_count": null,
      "metadata": {
        "id": "ALBXBVw-ZXnj"
      },
      "outputs": [],
      "source": [
        "print('5 тематик:')\n",
        "lda.show_topics(5)"
      ]
    },
    {
      "cell_type": "markdown",
      "metadata": {
        "id": "d3QKmlQqm7M2"
      },
      "source": [
        "Выводы:\n",
        "- доля объяснимых тем в рассмотренных трех наборах - в целом сопоставима\n",
        "- в отдельных темах проскакивают названия конкретных крупных банков (Сбербанк, Альфа), это банки с наибольшим количеством отзывов в датасете"
      ]
    },
    {
      "cell_type": "code",
      "source": [
        "del texts\n",
        "del dictionary\n",
        "del corpus\n",
        "del lda\n",
        "\n",
        "gc.collect()"
      ],
      "metadata": {
        "colab": {
          "base_uri": "https://localhost:8080/"
        },
        "id": "qRKMkdzaMy4w",
        "outputId": "4cd9302a-e1db-4dc2-936b-a10093d90eaa"
      },
      "execution_count": 53,
      "outputs": [
        {
          "data": {
            "text/plain": [
              "0"
            ]
          },
          "execution_count": 53,
          "metadata": {},
          "output_type": "execute_result"
        }
      ]
    },
    {
      "cell_type": "markdown",
      "metadata": {
        "id": "Gt7fVrY6GeNk"
      },
      "source": [
        "### Часть 3. Классификация текстов"
      ]
    },
    {
      "cell_type": "markdown",
      "metadata": {
        "id": "lL3cCRvCGeyb"
      },
      "source": [
        "Сформулируем для простоты задачу бинарной классификации: будем классифицировать на два класса, то есть, различать резко отрицательные отзывы (с оценкой 1) и положительные отзывы (с оценкой 5).\n",
        "\n",
        "- Составьте обучающее и тестовое множество: выберите из всего набора данных N1 отзывов с оценкой 1 и N2 отзывов с оценкой 5 (значение N1 и N2 – на ваше усмотрение). Используйте sklearn.model_selection.train_test_split для разделения множества отобранных документов на обучающее и тестовое.\n",
        "- Используйте любой известный вам алгоритм классификации текстов для решения задачи и получите baseline. Сравните разные варианты векторизации текста: использование только униграм, пар или троек слов или с использованием символьных n-грам.\n",
        "- Сравните, как изменяется качество решения задачи при использовании скрытых тем в качестве признаков:\n",
        "  - 1-ый вариант: tf-idf преобразование (sklearn.feature_extraction.text.TfidfTransformer) и сингулярное разложение (оно же – латентый семантический анализ) (sklearn.decomposition.TruncatedSVD),\n",
        "  - 2-ой вариант: тематические модели LDA (sklearn.decomposition.LatentDirichletAllocation).\n",
        "\n",
        "Используйте accuracy и F-measure для оценки качества классификации.\n",
        "\n",
        "Эта часть задания может быть сделана с использованием sklearn."
      ]
    },
    {
      "cell_type": "code",
      "execution_count": 54,
      "metadata": {
        "id": "alS6_kUvFxv5"
      },
      "outputs": [],
      "source": [
        "# подготовка данных для классификации текстов\n",
        "# предсказывать классы будем только по тексту (леммам), прочие признаки не используются\n",
        "df2 = df.loc[df['rating_grade'].isin([1, 5])][['lemma', 'rating_grade']].reset_index(drop=True)\n",
        "df2['rating_grade'] = df2['rating_grade'].apply(lambda x: 1 if x == 5 else 0)   # положительные - 1, отрицательные - 0"
      ]
    },
    {
      "cell_type": "code",
      "execution_count": 55,
      "metadata": {
        "id": "F-e1gH7SGzQm",
        "colab": {
          "base_uri": "https://localhost:8080/"
        },
        "outputId": "bd1ebfca-04f9-4591-f44f-37eca590917b"
      },
      "outputs": [
        {
          "output_type": "stream",
          "name": "stdout",
          "text": [
            "<class 'pandas.core.frame.DataFrame'>\n",
            "RangeIndex: 50366 entries, 0 to 50365\n",
            "Data columns (total 2 columns):\n",
            " #   Column        Non-Null Count  Dtype \n",
            "---  ------        --------------  ----- \n",
            " 0   lemma         50366 non-null  object\n",
            " 1   rating_grade  50366 non-null  int64 \n",
            "dtypes: int64(1), object(1)\n",
            "memory usage: 787.1+ KB\n"
          ]
        }
      ],
      "source": [
        "df2.info()"
      ]
    },
    {
      "cell_type": "code",
      "execution_count": 57,
      "metadata": {
        "id": "fdlLHFUwGzTd"
      },
      "outputs": [],
      "source": [
        "from sklearn.model_selection import train_test_split\n",
        "from sklearn.pipeline import Pipeline\n",
        "from sklearn.feature_extraction.text import CountVectorizer\n",
        "from sklearn.feature_extraction.text import TfidfTransformer\n",
        "from sklearn.decomposition import TruncatedSVD, LatentDirichletAllocation\n",
        "from sklearn.ensemble import RandomForestClassifier as RFC\n",
        "from sklearn.metrics import f1_score, classification_report, confusion_matrix"
      ]
    },
    {
      "cell_type": "code",
      "execution_count": 58,
      "metadata": {
        "id": "9MAJIds5I9yu"
      },
      "outputs": [],
      "source": [
        "X_train, X_test, y_train, y_test = train_test_split(df2['lemma'], df2['rating_grade'], test_size=0.2, random_state=23)"
      ]
    },
    {
      "cell_type": "code",
      "execution_count": 59,
      "metadata": {
        "id": "FhEIP6d8I90e",
        "colab": {
          "base_uri": "https://localhost:8080/"
        },
        "outputId": "d0567208-1bc3-405b-fbbd-15d92b4edc1f"
      },
      "outputs": [
        {
          "output_type": "execute_result",
          "data": {
            "text/plain": [
              "(40292,)"
            ]
          },
          "metadata": {},
          "execution_count": 59
        }
      ],
      "source": [
        "X_train.shape"
      ]
    },
    {
      "cell_type": "code",
      "execution_count": 60,
      "metadata": {
        "id": "3zHlKgJ6I92F",
        "colab": {
          "base_uri": "https://localhost:8080/"
        },
        "outputId": "48c3b74f-90b6-419c-97f1-ce76c7f0c13b"
      },
      "outputs": [
        {
          "output_type": "execute_result",
          "data": {
            "text/plain": [
              "(40292,)"
            ]
          },
          "metadata": {},
          "execution_count": 60
        }
      ],
      "source": [
        "y_train.shape"
      ]
    },
    {
      "cell_type": "code",
      "execution_count": 61,
      "metadata": {
        "id": "aBEhYWpbI93v",
        "colab": {
          "base_uri": "https://localhost:8080/"
        },
        "outputId": "ee1ebc1e-45f9-4de2-ba18-46ff4e500235"
      },
      "outputs": [
        {
          "output_type": "execute_result",
          "data": {
            "text/plain": [
              "(10074,)"
            ]
          },
          "metadata": {},
          "execution_count": 61
        }
      ],
      "source": [
        "X_test.shape"
      ]
    },
    {
      "cell_type": "code",
      "execution_count": 62,
      "metadata": {
        "id": "EXrr6AO-I95y",
        "colab": {
          "base_uri": "https://localhost:8080/"
        },
        "outputId": "a80c316d-788e-4670-c8e1-627896cb63e6"
      },
      "outputs": [
        {
          "output_type": "execute_result",
          "data": {
            "text/plain": [
              "(10074,)"
            ]
          },
          "metadata": {},
          "execution_count": 62
        }
      ],
      "source": [
        "y_test.shape"
      ]
    },
    {
      "cell_type": "code",
      "execution_count": 63,
      "metadata": {
        "id": "BDVkuHCpI98h",
        "colab": {
          "base_uri": "https://localhost:8080/",
          "height": 688
        },
        "outputId": "2a4758c2-d9e6-48a7-9f88-71c86669cd24"
      },
      "outputs": [
        {
          "output_type": "stream",
          "name": "stdout",
          "text": [
            "--------------------\n",
            "tf-idf + truncated SVD (униграммы - слова):\n",
            "F1-score:\t0.8512088635256132\n",
            "              precision    recall  f1-score   support\n",
            "\n",
            "           0       0.91      0.99      0.95      7921\n",
            "           1       0.97      0.62      0.75      2153\n",
            "\n",
            "    accuracy                           0.91     10074\n",
            "   macro avg       0.94      0.81      0.85     10074\n",
            "weighted avg       0.92      0.91      0.91     10074\n",
            "\n",
            "Axes(0.125,0.11;0.62x0.77)\n"
          ]
        },
        {
          "output_type": "display_data",
          "data": {
            "text/plain": [
              "<Figure size 640x480 with 2 Axes>"
            ],
            "image/png": "[encoded data removed]"
          },
          "metadata": {}
        }
      ],
      "source": [
        "lemma_1 = Pipeline([\n",
        "    ('vect', CountVectorizer(analyzer='word', ngram_range=(1,1))),\n",
        "    ('tfidf', TfidfTransformer()),\n",
        "    ('tsvd', TruncatedSVD(n_components=100))\n",
        "])\n",
        "\n",
        "rf = RFC()\n",
        "model_1 = rf.fit(lemma_1.fit_transform(X_train), y_train)\n",
        "prediction = model_1.predict(lemma_1.transform(X_test))\n",
        "print('--------------------')\n",
        "print('tf-idf + truncated SVD (униграммы - слова):')\n",
        "print(f'F1-score:\\t{f1_score(y_test, prediction, average=\"macro\")}')\n",
        "print(classification_report(y_test, prediction))\n",
        "labels = model_1.classes_\n",
        "print(sns.heatmap(data=confusion_matrix(y_test, prediction), annot=True, fmt='d', xticklabels=labels, yticklabels=labels))\n",
        "plt.title('Confusion matrix:')\n",
        "plt.show()"
      ]
    },
    {
      "cell_type": "markdown",
      "source": [
        "**Tf-idf + truncated SVD (униграммы - слова):**\n",
        "- F1-score: 0.85\n",
        "- Высокая доля False Negative (FN) предсказаний"
      ],
      "metadata": {
        "id": "ztEUO-9sPQUo"
      }
    },
    {
      "cell_type": "code",
      "execution_count": 64,
      "metadata": {
        "id": "MUvB-mWdI9-O",
        "colab": {
          "base_uri": "https://localhost:8080/",
          "height": 688
        },
        "outputId": "444b93ac-cf53-4c82-f766-ee232010500a"
      },
      "outputs": [
        {
          "output_type": "stream",
          "name": "stdout",
          "text": [
            "--------------------\n",
            "tf-idf + truncated SVD (биграммы - слова):\n",
            "F1-score:\t0.8301437230559519\n",
            "              precision    recall  f1-score   support\n",
            "\n",
            "           0       0.90      0.99      0.94      7921\n",
            "           1       0.95      0.58      0.72      2153\n",
            "\n",
            "    accuracy                           0.90     10074\n",
            "   macro avg       0.92      0.78      0.83     10074\n",
            "weighted avg       0.91      0.90      0.89     10074\n",
            "\n",
            "Axes(0.125,0.11;0.62x0.77)\n"
          ]
        },
        {
          "output_type": "display_data",
          "data": {
            "text/plain": [
              "<Figure size 640x480 with 2 Axes>"
            ],
            "image/png": "[encoded data removed]"
          },
          "metadata": {}
        }
      ],
      "source": [
        "lemma_2 = Pipeline([\n",
        "    ('vect', CountVectorizer(analyzer='word', ngram_range=(2,2))),\n",
        "    ('tfidf', TfidfTransformer()),\n",
        "    ('tsvd', TruncatedSVD(n_components=100))\n",
        "])\n",
        "\n",
        "model_2 = rf.fit(lemma_2.fit_transform(X_train), y_train)\n",
        "prediction = model_2.predict(lemma_2.transform(X_test))\n",
        "print('--------------------')\n",
        "print('tf-idf + truncated SVD (биграммы - слова):')\n",
        "print(f'F1-score:\\t{f1_score(y_test, prediction, average=\"macro\")}')\n",
        "print(classification_report(y_test, prediction))\n",
        "labels = model_2.classes_\n",
        "print(sns.heatmap(data=confusion_matrix(y_test, prediction), annot=True, fmt='d', xticklabels=labels, yticklabels=labels))\n",
        "plt.title('Confusion matrix:')\n",
        "plt.show()"
      ]
    },
    {
      "cell_type": "markdown",
      "source": [
        "**Tf-idf + truncated SVD (биграммы - слова):**\n",
        "- F1-score: 0.83\n",
        "- Высокая доля False Negative (FN) предсказаний"
      ],
      "metadata": {
        "id": "HcugHxMCPsdU"
      }
    },
    {
      "cell_type": "code",
      "source": [
        "del model_1\n",
        "del model_2\n",
        "del lemma_1\n",
        "del lemma_2\n",
        "del prediction\n",
        "\n",
        "gc.collect()"
      ],
      "metadata": {
        "colab": {
          "base_uri": "https://localhost:8080/"
        },
        "id": "YwgsddnTQVGG",
        "outputId": "b8452e65-dda7-42d4-fae3-8ef19d132c04"
      },
      "execution_count": 65,
      "outputs": [
        {
          "output_type": "execute_result",
          "data": {
            "text/plain": [
              "8650"
            ]
          },
          "metadata": {},
          "execution_count": 65
        }
      ]
    },
    {
      "cell_type": "code",
      "execution_count": null,
      "metadata": {
        "id": "RuuLQOTqOUGn"
      },
      "outputs": [],
      "source": [
        "lemma_3 = Pipeline([\n",
        "    ('vect', CountVectorizer(analyzer='word', ngram_range=(3,3))),\n",
        "    ('tfidf', TfidfTransformer()),\n",
        "    ('tsvd', TruncatedSVD(n_components=100))\n",
        "])\n",
        "\n",
        "model_3 = rf.fit(lemma_3.fit_transform(X_train), y_train)\n",
        "prediction = model_3.predict(lemma_3.transform(X_test))\n",
        "print('--------------------')\n",
        "print('tf-idf + truncated SVD (триграммы - слова):')\n",
        "print(f'F1-score:\\t{f1_score(y_test, prediction, average=\"macro\")}')\n",
        "print(classification_report(y_test, prediction))\n",
        "labels = model_3.classes_\n",
        "print(sns.heatmap(data=confusion_matrix(y_test, prediction), annot=True, fmt='d', xticklabels=labels, yticklabels=labels))\n",
        "plt.title('Confusion matrix:')\n",
        "plt.show()"
      ]
    },
    {
      "cell_type": "markdown",
      "source": [
        "**Tf-idf + truncated SVD (триграммы - слова):**\n",
        "- многократно не удалось провести обучение модели из-за исчерпания оперативной памяти"
      ],
      "metadata": {
        "id": "F4JFTWrkRH6u"
      }
    },
    {
      "cell_type": "code",
      "source": [
        "del model_3\n",
        "del lemma_3\n",
        "del prediction\n",
        "\n",
        "gc.collect()"
      ],
      "metadata": {
        "id": "8_FS5N97Q0wq"
      },
      "execution_count": null,
      "outputs": []
    },
    {
      "cell_type": "code",
      "execution_count": null,
      "metadata": {
        "id": "edsEiZdbSePg"
      },
      "outputs": [],
      "source": [
        "lemma_4 = Pipeline([\n",
        "    ('vect', CountVectorizer(analyzer='char', ngram_range=(4,7))),\n",
        "    ('tfidf', TfidfTransformer()),\n",
        "    ('tsvd', TruncatedSVD(n_components=100))\n",
        "])\n",
        "\n",
        "model_4 = rf.fit(lemma_4.fit_transform(X_train), y_train)\n",
        "prediction = model_4.predict(lemma_4.transform(X_test))\n",
        "print('--------------------')\n",
        "print('tf-idf + truncated SVD (4-7-граммы - символы:')\n",
        "print(f'F1-score:\\t{f1_score(y_test, prediction, average=\"macro\")}')\n",
        "print(classification_report(y_test, prediction))\n",
        "labels = model_4.classes_\n",
        "print(sns.heatmap(data=confusion_matrix(y_test, prediction), annot=True, fmt='d', xticklabels=labels, yticklabels=labels))\n",
        "plt.title('Confusion matrix:')\n",
        "plt.show()"
      ]
    },
    {
      "cell_type": "markdown",
      "source": [
        "**Tf-idf + truncated SVD (4-7-граммы - символы):**\n",
        "- многократно не удалось провести обучение модели из-за исчерпания оперативной памяти"
      ],
      "metadata": {
        "id": "fk_u5rtERWmP"
      }
    },
    {
      "cell_type": "code",
      "execution_count": null,
      "metadata": {
        "id": "c7YfF6ODOUJC"
      },
      "outputs": [],
      "source": [
        "lemma_5 = Pipeline([\n",
        "    ('vect', CountVectorizer(analyzer='word', ngram_range=(1,2))),\n",
        "    ('tfidf', TfidfTransformer()),\n",
        "    ('lda', LatentDirichletAllocation(n_components=30, n_jobs=5))\n",
        "])\n",
        "\n",
        "model_5 = rf.fit(lemma_5.fit_transform(X_train), y_train)\n",
        "prediction = model_5.predict(lemma_5.transform(X_test))\n",
        "print('--------------------')\n",
        "print('tf-idf + lda (1-2-граммы - слова):')\n",
        "print(f'F1-score:\\t{f1_score(y_test, prediction, average=\"macro\")}')\n",
        "print(classification_report(y_test, prediction))\n",
        "labels = model_5.classes_\n",
        "print(sns.heatmap(data=confusion_matrix(y_test, prediction), annot=True, fmt='d', xticklabels=labels, yticklabels=labels))\n",
        "plt.title('Confusion matrix:')\n",
        "plt.show()"
      ]
    },
    {
      "cell_type": "markdown",
      "source": [
        "**Tf-idf + LDA (1-2-граммы - слова):**\n",
        "- многократно не удалось провести обучение модели из-за исчерпания оперативной памяти"
      ],
      "metadata": {
        "id": "O0L90t25RcoX"
      }
    }
  ],
  "metadata": {
    "colab": {
      "provenance": []
    },
    "kernelspec": {
      "display_name": "Python 3",
      "name": "python3"
    },
    "language_info": {
      "name": "python"
    }
  },
  "nbformat": 4,
  "nbformat_minor": 0
}